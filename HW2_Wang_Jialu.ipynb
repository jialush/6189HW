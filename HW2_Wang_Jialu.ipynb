{
  "nbformat": 4,
  "nbformat_minor": 0,
  "metadata": {
    "colab": {
      "name": "HW2_Wang_Jialu.ipynb",
      "provenance": [],
      "authorship_tag": "ABX9TyMDL2bH5hPkJ0f4Q+8PNOpE",
      "include_colab_link": true
    },
    "kernelspec": {
      "name": "python3",
      "display_name": "Python 3"
    }
  },
  "cells": [
    {
      "cell_type": "markdown",
      "metadata": {
        "id": "view-in-github",
        "colab_type": "text"
      },
      "source": [
        "<a href=\"https://colab.research.google.com/github/jialush/6189HW/blob/master/HW2_Wang_Jialu.ipynb\" target=\"_parent\"><img src=\"https://colab.research.google.com/assets/colab-badge.svg\" alt=\"Open In Colab\"/></a>"
      ]
    },
    {
      "cell_type": "code",
      "metadata": {
        "id": "qv8CklSHjwa7"
      },
      "source": [
        "from __future__ import print_function\n",
        "import keras\n",
        "from keras.datasets import cifar10\n",
        "from keras.preprocessing.image import ImageDataGenerator\n",
        "from keras.models import Sequential\n",
        "from keras.layers import Dense, Dropout, Activation, Flatten\n",
        "from keras.layers import Conv2D, MaxPooling2D\n",
        "import os"
      ],
      "execution_count": 1,
      "outputs": []
    },
    {
      "cell_type": "markdown",
      "metadata": {
        "id": "CXKogbBT6mG6"
      },
      "source": [
        "(a)\n",
        "\n"
      ]
    },
    {
      "cell_type": "code",
      "metadata": {
        "id": "Xk18iW2ylB5-"
      },
      "source": [
        "batch_size = 32\n",
        "num_classes = 10\n",
        "epochs = 10\n",
        "data_augmentation = True\n",
        "num_predictions = 20\n",
        "save_dir = os.path.join(os.getcwd(), 'saved_models')\n",
        "model_name_a = 'keras_cifar10_trained_modela.h5'\n",
        "model_name_b = 'keras_cifar10_trained_modelb.h5'\n",
        "model_name_c = 'keras_cifar10_trained_modelc.h5'"
      ],
      "execution_count": 2,
      "outputs": []
    },
    {
      "cell_type": "code",
      "metadata": {
        "id": "HB9_ehfDmUP9",
        "outputId": "00798978-9879-433a-ace2-19574bb70905",
        "colab": {
          "base_uri": "https://localhost:8080/",
          "height": 107
        }
      },
      "source": [
        "# The data, split between train and test sets:\n",
        "(x_train, y_train), (x_test, y_test) = cifar10.load_data()\n",
        "print('x_train shape:', x_train.shape)\n",
        "print(x_train.shape[0], 'train samples')\n",
        "print(x_test.shape[0], 'test samples')\n",
        "\n",
        "# Convert class vectors to binary class matrices.\n",
        "y_train = keras.utils.to_categorical(y_train, num_classes)\n",
        "y_test = keras.utils.to_categorical(y_test, num_classes)\n"
      ],
      "execution_count": 3,
      "outputs": [
        {
          "output_type": "stream",
          "text": [
            "Downloading data from https://www.cs.toronto.edu/~kriz/cifar-10-python.tar.gz\n",
            "170500096/170498071 [==============================] - 2s 0us/step\n",
            "x_train shape: (50000, 32, 32, 3)\n",
            "50000 train samples\n",
            "10000 test samples\n"
          ],
          "name": "stdout"
        }
      ]
    },
    {
      "cell_type": "code",
      "metadata": {
        "id": "wykqf5clq8eZ"
      },
      "source": [
        "#simple dense neural network (sdnn), 0 hidden layers\n",
        "model_sdnn_0 = Sequential()\n",
        "model_sdnn_0.add(Flatten())\n",
        "model_sdnn_0.add(Dense(num_classes))\n",
        "model_sdnn_0.add(Activation('softmax'))"
      ],
      "execution_count": 4,
      "outputs": []
    },
    {
      "cell_type": "code",
      "metadata": {
        "id": "lv_d6NTsuYk-"
      },
      "source": [
        "#simple dense neural network (sdnn), 1 hidden layer\n",
        "model_sdnn_1 = Sequential()\n",
        "model_sdnn_1.add(Flatten())\n",
        "model_sdnn_1.add(Dense(512))\n",
        "model_sdnn_1.add(Activation('relu'))\n",
        "model_sdnn_1.add(Dropout(0.5))\n",
        "model_sdnn_1.add(Dense(num_classes))\n",
        "model_sdnn_1.add(Activation('softmax'))"
      ],
      "execution_count": 5,
      "outputs": []
    },
    {
      "cell_type": "code",
      "metadata": {
        "id": "zTB3wNbXvfJp"
      },
      "source": [
        "#simple dense neural network (sdnn), 2 hidden layer\n",
        "model_sdnn_2 = Sequential()\n",
        "model_sdnn_2.add(Flatten())\n",
        "model_sdnn_2.add(Dense(512))\n",
        "model_sdnn_2.add(Activation('relu'))\n",
        "model_sdnn_2.add(Dropout(0.5))\n",
        "model_sdnn_2.add(Dense(512))\n",
        "model_sdnn_2.add(Activation('relu'))\n",
        "model_sdnn_2.add(Dropout(0.5))\n",
        "model_sdnn_2.add(Dense(num_classes))\n",
        "model_sdnn_2.add(Activation('softmax'))"
      ],
      "execution_count": 6,
      "outputs": []
    },
    {
      "cell_type": "code",
      "metadata": {
        "id": "IGdnKw-ovg5o"
      },
      "source": [
        "#simple dense neural network (sdnn), 3 hidden layer\n",
        "model_sdnn_3 = Sequential()\n",
        "model_sdnn_3.add(Flatten())\n",
        "model_sdnn_3.add(Dense(512))\n",
        "model_sdnn_3.add(Activation('relu'))\n",
        "model_sdnn_3.add(Dropout(0.5))\n",
        "model_sdnn_3.add(Dense(512))\n",
        "model_sdnn_3.add(Activation('relu'))\n",
        "model_sdnn_3.add(Dropout(0.5))\n",
        "model_sdnn_3.add(Dense(512))\n",
        "model_sdnn_3.add(Activation('relu'))\n",
        "model_sdnn_3.add(Dropout(0.5))\n",
        "model_sdnn_3.add(Dense(num_classes))\n",
        "model_sdnn_3.add(Activation('softmax'))"
      ],
      "execution_count": 11,
      "outputs": []
    },
    {
      "cell_type": "code",
      "metadata": {
        "id": "uOXB1QmKvhsW"
      },
      "source": [
        "#simple dense neural network (sdnn), 4 hidden layer\n",
        "model_sdnn_4 = Sequential()\n",
        "model_sdnn_4.add(Flatten())\n",
        "model_sdnn_4.add(Dense(512))\n",
        "model_sdnn_4.add(Activation('relu'))\n",
        "model_sdnn_4.add(Dropout(0.5))\n",
        "model_sdnn_4.add(Dense(512))\n",
        "model_sdnn_4.add(Activation('relu'))\n",
        "model_sdnn_4.add(Dropout(0.5))\n",
        "model_sdnn_4.add(Dense(512))\n",
        "model_sdnn_4.add(Activation('relu'))\n",
        "model_sdnn_4.add(Dropout(0.5))\n",
        "model_sdnn_4.add(Dense(512))\n",
        "model_sdnn_4.add(Activation('relu'))\n",
        "model_sdnn_4.add(Dropout(0.5))\n",
        "model_sdnn_4.add(Dense(num_classes))\n",
        "model_sdnn_4.add(Activation('softmax'))"
      ],
      "execution_count": 12,
      "outputs": []
    },
    {
      "cell_type": "code",
      "metadata": {
        "id": "uQp3JywSy2mG"
      },
      "source": [
        "# cnn\n",
        "model = Sequential()\n",
        "model.add(Conv2D(32, (3, 3), padding='same',\n",
        "                 input_shape=x_train.shape[1:]))\n",
        "model.add(Activation('relu'))\n",
        "model.add(Conv2D(32, (3, 3)))\n",
        "model.add(Activation('relu'))\n",
        "model.add(MaxPooling2D(pool_size=(2, 2)))\n",
        "model.add(Dropout(0.25))\n",
        "\n",
        "model.add(Conv2D(64, (3, 3), padding='same'))\n",
        "model.add(Activation('relu'))\n",
        "model.add(Conv2D(64, (3, 3)))\n",
        "model.add(Activation('relu'))\n",
        "model.add(MaxPooling2D(pool_size=(2, 2)))\n",
        "model.add(Dropout(0.25))\n",
        "\n",
        "model.add(Flatten())\n",
        "model.add(Dense(512))\n",
        "model.add(Activation('relu'))\n",
        "model.add(Dropout(0.5))\n",
        "model.add(Dense(num_classes))\n",
        "model.add(Activation('softmax'))"
      ],
      "execution_count": 13,
      "outputs": []
    },
    {
      "cell_type": "code",
      "metadata": {
        "id": "sh1bmFGrxErJ"
      },
      "source": [
        "# initiate RMSprop optimizer\n",
        "opt = keras.optimizers.RMSprop(learning_rate=0.001, decay=1e-4)\n",
        "# Let's train the model using RMSprop\n",
        "model_sdnn_0.compile(loss='categorical_crossentropy',\n",
        "              optimizer=opt,\n",
        "              metrics=['accuracy'])\n",
        "\n",
        "model_sdnn_1.compile(loss='categorical_crossentropy',\n",
        "              optimizer=opt,\n",
        "              metrics=['accuracy'])\n",
        "model_sdnn_2.compile(loss='categorical_crossentropy',\n",
        "              optimizer=opt,\n",
        "              metrics=['accuracy'])\n",
        "model_sdnn_3.compile(loss='categorical_crossentropy',\n",
        "              optimizer=opt,\n",
        "              metrics=['accuracy'])\n",
        "model_sdnn_4.compile(loss='categorical_crossentropy',\n",
        "              optimizer=opt,\n",
        "              metrics=['accuracy'])\n",
        "model.compile(loss='categorical_crossentropy',\n",
        "              optimizer=opt,\n",
        "              metrics=['accuracy'])\n",
        "x_train = x_train.astype('float32')\n",
        "x_test = x_test.astype('float32')\n",
        "x_train /= 255\n",
        "x_test /= 255"
      ],
      "execution_count": 14,
      "outputs": []
    },
    {
      "cell_type": "code",
      "metadata": {
        "id": "_3lvSeaUkBE3",
        "outputId": "dbdfa847-3c3b-4345-d69b-af6bfeb57779",
        "colab": {
          "base_uri": "https://localhost:8080/",
          "height": 1000
        }
      },
      "source": [
        "import time\n",
        "if not data_augmentation:\n",
        "    print('Not using data augmentation.')\n",
        "    model.fit(x_train, y_train,\n",
        "              batch_size=batch_size,\n",
        "              epochs=epochs,\n",
        "              validation_data=(x_test, y_test),\n",
        "              shuffle=True)\n",
        "    model_sdnn_0.fit(x_train, y_train,\n",
        "              batch_size=batch_size,\n",
        "              epochs=epochs,\n",
        "              validation_data=(x_test, y_test),\n",
        "              shuffle=True)\n",
        "    model_sdnn_1.fit(x_train, y_train,\n",
        "              batch_size=batch_size,\n",
        "              epochs=epochs,\n",
        "              validation_data=(x_test, y_test),\n",
        "              shuffle=True)\n",
        "    model_sdnn_2.fit(x_train, y_train,\n",
        "              batch_size=batch_size,\n",
        "              epochs=epochs,\n",
        "              validation_data=(x_test, y_test),\n",
        "              shuffle=True)\n",
        "    model_sdnn_3.fit(x_train, y_train,\n",
        "              batch_size=batch_size,\n",
        "              epochs=epochs,\n",
        "              validation_data=(x_test, y_test),\n",
        "              shuffle=True)\n",
        "    model_sdnn_4.fit(x_train, y_train,\n",
        "              batch_size=batch_size,\n",
        "              epochs=epochs,\n",
        "              validation_data=(x_test, y_test),\n",
        "              shuffle=True)\n",
        "else:\n",
        "    print('Using real-time data augmentation.')\n",
        "    # This will do preprocessing and realtime data augmentation:\n",
        "    datagen = ImageDataGenerator(\n",
        "        featurewise_center=False,  # set input mean to 0 over the dataset\n",
        "        samplewise_center=False,  # set each sample mean to 0\n",
        "        featurewise_std_normalization=False,  # divide inputs by std of the dataset\n",
        "        samplewise_std_normalization=False,  # divide each input by its std\n",
        "        zca_whitening=False,  # apply ZCA whitening\n",
        "        zca_epsilon=1e-06,  # epsilon for ZCA whitening\n",
        "        rotation_range=0,  # randomly rotate images in the range (degrees, 0 to 180)\n",
        "        # randomly shift images horizontally (fraction of total width)\n",
        "        width_shift_range=0.1,\n",
        "        # randomly shift images vertically (fraction of total height)\n",
        "        height_shift_range=0.1,\n",
        "        shear_range=0.,  # set range for random shear\n",
        "        zoom_range=0.,  # set range for random zoom\n",
        "        channel_shift_range=0.,  # set range for random channel shifts\n",
        "        # set mode for filling points outside the input boundaries\n",
        "        fill_mode='nearest',\n",
        "        cval=0.,  # value used for fill_mode = \"constant\"\n",
        "        horizontal_flip=True,  # randomly flip images\n",
        "        vertical_flip=False,  # randomly flip images\n",
        "        # set rescaling factor (applied before any other transformation)\n",
        "        rescale=None,\n",
        "        # set function that will be applied on each input\n",
        "        preprocessing_function=None,\n",
        "        # image data format, either \"channels_first\" or \"channels_last\"\n",
        "        data_format=None,\n",
        "        # fraction of images reserved for validation (strictly between 0 and 1)\n",
        "        validation_split=0.0)\n",
        "\n",
        "    # Compute quantities required for feature-wise normalization\n",
        "    # (std, mean, and principal components if ZCA whitening is applied).\n",
        "    datagen.fit(x_train)\n",
        "\n",
        "    # Fit the model on the batches generated by datagen.flow().\n",
        "    tic=time.time()\n",
        "    history_model=model.fit_generator(datagen.flow(x_train, y_train,\n",
        "                                     batch_size=batch_size),\n",
        "                        epochs=epochs,\n",
        "                        validation_data=(x_test, y_test),\n",
        "                        workers=4,\n",
        "                        use_multiprocessing=True)\n",
        "    toc=time.time()\n",
        "    print('\\nused time:',toc-tic,'\\n')\n",
        "    \n",
        "    tic=time.time()\n",
        "    history_model_sdnn_0=model_sdnn_0.fit_generator(datagen.flow(x_train, y_train,\n",
        "                                     batch_size=batch_size),\n",
        "                        epochs=epochs,\n",
        "                        validation_data=(x_test, y_test),\n",
        "                        workers=4,\n",
        "                        use_multiprocessing=True)\n",
        "    toc=time.time()\n",
        "    print('\\nused time:',toc-tic,'\\n')\n",
        "\n",
        "    tic=time.time()\n",
        "    history_model_sdnn_1=model_sdnn_1.fit_generator(datagen.flow(x_train, y_train,\n",
        "                                     batch_size=batch_size),\n",
        "                        epochs=epochs,\n",
        "                        validation_data=(x_test, y_test),\n",
        "                        workers=4,\n",
        "                        use_multiprocessing=True)\n",
        "    toc=time.time()\n",
        "    print('\\nused time:',toc-tic,'\\n')\n",
        "\n",
        "    tic=time.time()\n",
        "    history_model_sdnn_2=model_sdnn_2.fit_generator(datagen.flow(x_train, y_train,\n",
        "                                     batch_size=batch_size),\n",
        "                        epochs=epochs,\n",
        "                        validation_data=(x_test, y_test),\n",
        "                        workers=4,\n",
        "                        use_multiprocessing=True)\n",
        "    toc=time.time()\n",
        "    print('\\nused time:',toc-tic,'\\n')\n",
        "\n",
        "    tic=time.time()\n",
        "    history_model_sdnn_3=model_sdnn_3.fit_generator(datagen.flow(x_train, y_train,\n",
        "                                     batch_size=batch_size),\n",
        "                        epochs=epochs,\n",
        "                        validation_data=(x_test, y_test),\n",
        "                        workers=4,\n",
        "                        use_multiprocessing=True)\n",
        "    toc=time.time()\n",
        "    print('\\nused time:',toc-tic,'\\n')\n",
        "\n",
        "    tic=time.time()\n",
        "    history_model_sdnn_4=model_sdnn_4.fit_generator(datagen.flow(x_train, y_train,\n",
        "                                     batch_size=batch_size),\n",
        "                        epochs=epochs,\n",
        "                        validation_data=(x_test, y_test),\n",
        "                        workers=4,\n",
        "                        use_multiprocessing=True)\n",
        "    toc=time.time()\n",
        "    print('\\nused time:',toc-tic,'\\n')\n"
      ],
      "execution_count": 27,
      "outputs": [
        {
          "output_type": "stream",
          "text": [
            "Using real-time data augmentation.\n",
            "Epoch 1/3\n",
            "WARNING:tensorflow:multiprocessing can interact badly with TensorFlow, causing nondeterministic deadlocks. For high performance data pipelines tf.data is recommended.\n",
            "1562/1563 [============================>.] - ETA: 0s - loss: 1.2115 - accuracy: 0.5680WARNING:tensorflow:multiprocessing can interact badly with TensorFlow, causing nondeterministic deadlocks. For high performance data pipelines tf.data is recommended.\n",
            "1563/1563 [==============================] - 276s 176ms/step - loss: 1.2114 - accuracy: 0.5681 - val_loss: 1.0758 - val_accuracy: 0.6277\n",
            "Epoch 2/3\n",
            "WARNING:tensorflow:multiprocessing can interact badly with TensorFlow, causing nondeterministic deadlocks. For high performance data pipelines tf.data is recommended.\n",
            "1562/1563 [============================>.] - ETA: 0s - loss: 1.1040 - accuracy: 0.6124WARNING:tensorflow:multiprocessing can interact badly with TensorFlow, causing nondeterministic deadlocks. For high performance data pipelines tf.data is recommended.\n",
            "1563/1563 [==============================] - 271s 174ms/step - loss: 1.1040 - accuracy: 0.6125 - val_loss: 0.9731 - val_accuracy: 0.6574\n",
            "Epoch 3/3\n",
            "WARNING:tensorflow:multiprocessing can interact badly with TensorFlow, causing nondeterministic deadlocks. For high performance data pipelines tf.data is recommended.\n",
            "1562/1563 [============================>.] - ETA: 0s - loss: 1.0406 - accuracy: 0.6346WARNING:tensorflow:multiprocessing can interact badly with TensorFlow, causing nondeterministic deadlocks. For high performance data pipelines tf.data is recommended.\n",
            "1563/1563 [==============================] - 279s 179ms/step - loss: 1.0405 - accuracy: 0.6346 - val_loss: 0.8831 - val_accuracy: 0.6920\n",
            "\n",
            "used time: 827.7834084033966 \n",
            "\n",
            "Epoch 1/3\n",
            "WARNING:tensorflow:multiprocessing can interact badly with TensorFlow, causing nondeterministic deadlocks. For high performance data pipelines tf.data is recommended.\n",
            "1559/1563 [============================>.] - ETA: 0s - loss: 1.9177 - accuracy: 0.3249WARNING:tensorflow:multiprocessing can interact badly with TensorFlow, causing nondeterministic deadlocks. For high performance data pipelines tf.data is recommended.\n",
            "1563/1563 [==============================] - 26s 17ms/step - loss: 1.9177 - accuracy: 0.3249 - val_loss: 1.8634 - val_accuracy: 0.3431\n",
            "Epoch 2/3\n",
            "WARNING:tensorflow:multiprocessing can interact badly with TensorFlow, causing nondeterministic deadlocks. For high performance data pipelines tf.data is recommended.\n",
            "1561/1563 [============================>.] - ETA: 0s - loss: 1.9012 - accuracy: 0.3274WARNING:tensorflow:multiprocessing can interact badly with TensorFlow, causing nondeterministic deadlocks. For high performance data pipelines tf.data is recommended.\n",
            "1563/1563 [==============================] - 25s 16ms/step - loss: 1.9014 - accuracy: 0.3274 - val_loss: 1.8270 - val_accuracy: 0.3531\n",
            "Epoch 3/3\n",
            "WARNING:tensorflow:multiprocessing can interact badly with TensorFlow, causing nondeterministic deadlocks. For high performance data pipelines tf.data is recommended.\n",
            "1559/1563 [============================>.] - ETA: 0s - loss: 1.8848 - accuracy: 0.3381WARNING:tensorflow:multiprocessing can interact badly with TensorFlow, causing nondeterministic deadlocks. For high performance data pipelines tf.data is recommended.\n",
            "1563/1563 [==============================] - 26s 16ms/step - loss: 1.8846 - accuracy: 0.3383 - val_loss: 1.8457 - val_accuracy: 0.3527\n",
            "\n",
            "used time: 77.84135317802429 \n",
            "\n",
            "Epoch 1/3\n",
            "WARNING:tensorflow:multiprocessing can interact badly with TensorFlow, causing nondeterministic deadlocks. For high performance data pipelines tf.data is recommended.\n",
            "1562/1563 [============================>.] - ETA: 0s - loss: 1.9624 - accuracy: 0.2814WARNING:tensorflow:multiprocessing can interact badly with TensorFlow, causing nondeterministic deadlocks. For high performance data pipelines tf.data is recommended.\n",
            "1563/1563 [==============================] - 54s 35ms/step - loss: 1.9623 - accuracy: 0.2814 - val_loss: 1.7995 - val_accuracy: 0.3625\n",
            "Epoch 2/3\n",
            "WARNING:tensorflow:multiprocessing can interact badly with TensorFlow, causing nondeterministic deadlocks. For high performance data pipelines tf.data is recommended.\n",
            "1561/1563 [============================>.] - ETA: 0s - loss: 1.9403 - accuracy: 0.2921WARNING:tensorflow:multiprocessing can interact badly with TensorFlow, causing nondeterministic deadlocks. For high performance data pipelines tf.data is recommended.\n",
            "1563/1563 [==============================] - 54s 35ms/step - loss: 1.9404 - accuracy: 0.2920 - val_loss: 1.7732 - val_accuracy: 0.3679\n",
            "Epoch 3/3\n",
            "WARNING:tensorflow:multiprocessing can interact badly with TensorFlow, causing nondeterministic deadlocks. For high performance data pipelines tf.data is recommended.\n",
            "1562/1563 [============================>.] - ETA: 0s - loss: 1.9234 - accuracy: 0.3052WARNING:tensorflow:multiprocessing can interact badly with TensorFlow, causing nondeterministic deadlocks. For high performance data pipelines tf.data is recommended.\n",
            "1563/1563 [==============================] - 54s 34ms/step - loss: 1.9233 - accuracy: 0.3052 - val_loss: 1.7324 - val_accuracy: 0.3806\n",
            "\n",
            "used time: 163.50549268722534 \n",
            "\n",
            "Epoch 1/3\n",
            "WARNING:tensorflow:multiprocessing can interact badly with TensorFlow, causing nondeterministic deadlocks. For high performance data pipelines tf.data is recommended.\n",
            "1562/1563 [============================>.] - ETA: 0s - loss: 2.0374 - accuracy: 0.2348WARNING:tensorflow:multiprocessing can interact badly with TensorFlow, causing nondeterministic deadlocks. For high performance data pipelines tf.data is recommended.\n",
            "1563/1563 [==============================] - 61s 39ms/step - loss: 2.0375 - accuracy: 0.2348 - val_loss: 1.9430 - val_accuracy: 0.3041\n",
            "Epoch 2/3\n",
            "WARNING:tensorflow:multiprocessing can interact badly with TensorFlow, causing nondeterministic deadlocks. For high performance data pipelines tf.data is recommended.\n",
            "1561/1563 [============================>.] - ETA: 0s - loss: 2.0103 - accuracy: 0.2485WARNING:tensorflow:multiprocessing can interact badly with TensorFlow, causing nondeterministic deadlocks. For high performance data pipelines tf.data is recommended.\n",
            "1563/1563 [==============================] - 62s 40ms/step - loss: 2.0102 - accuracy: 0.2484 - val_loss: 1.9002 - val_accuracy: 0.3428\n",
            "Epoch 3/3\n",
            "WARNING:tensorflow:multiprocessing can interact badly with TensorFlow, causing nondeterministic deadlocks. For high performance data pipelines tf.data is recommended.\n",
            "1563/1563 [==============================] - ETA: 0s - loss: 1.9962 - accuracy: 0.2569WARNING:tensorflow:multiprocessing can interact badly with TensorFlow, causing nondeterministic deadlocks. For high performance data pipelines tf.data is recommended.\n",
            "1563/1563 [==============================] - 68s 43ms/step - loss: 1.9962 - accuracy: 0.2569 - val_loss: 1.9081 - val_accuracy: 0.3231\n",
            "\n",
            "used time: 191.3485448360443 \n",
            "\n",
            "Epoch 1/3\n",
            "WARNING:tensorflow:multiprocessing can interact badly with TensorFlow, causing nondeterministic deadlocks. For high performance data pipelines tf.data is recommended.\n",
            "1562/1563 [============================>.] - ETA: 0s - loss: 2.0680 - accuracy: 0.2122WARNING:tensorflow:multiprocessing can interact badly with TensorFlow, causing nondeterministic deadlocks. For high performance data pipelines tf.data is recommended.\n",
            "1563/1563 [==============================] - 70s 45ms/step - loss: 2.0680 - accuracy: 0.2122 - val_loss: 2.0100 - val_accuracy: 0.2986\n",
            "Epoch 2/3\n",
            "WARNING:tensorflow:multiprocessing can interact badly with TensorFlow, causing nondeterministic deadlocks. For high performance data pipelines tf.data is recommended.\n",
            "1562/1563 [============================>.] - ETA: 0s - loss: 2.0432 - accuracy: 0.2290WARNING:tensorflow:multiprocessing can interact badly with TensorFlow, causing nondeterministic deadlocks. For high performance data pipelines tf.data is recommended.\n",
            "1563/1563 [==============================] - 68s 44ms/step - loss: 2.0433 - accuracy: 0.2289 - val_loss: 2.0532 - val_accuracy: 0.2490\n",
            "Epoch 3/3\n",
            "WARNING:tensorflow:multiprocessing can interact badly with TensorFlow, causing nondeterministic deadlocks. For high performance data pipelines tf.data is recommended.\n",
            "1562/1563 [============================>.] - ETA: 0s - loss: 2.0312 - accuracy: 0.2349WARNING:tensorflow:multiprocessing can interact badly with TensorFlow, causing nondeterministic deadlocks. For high performance data pipelines tf.data is recommended.\n",
            "1563/1563 [==============================] - 68s 44ms/step - loss: 2.0312 - accuracy: 0.2349 - val_loss: 2.0611 - val_accuracy: 0.2431\n",
            "\n",
            "used time: 207.56656098365784 \n",
            "\n",
            "Epoch 1/3\n",
            "WARNING:tensorflow:multiprocessing can interact badly with TensorFlow, causing nondeterministic deadlocks. For high performance data pipelines tf.data is recommended.\n",
            "1563/1563 [==============================] - ETA: 0s - loss: 2.0705 - accuracy: 0.2090WARNING:tensorflow:multiprocessing can interact badly with TensorFlow, causing nondeterministic deadlocks. For high performance data pipelines tf.data is recommended.\n",
            "1563/1563 [==============================] - 76s 49ms/step - loss: 2.0705 - accuracy: 0.2090 - val_loss: 2.0860 - val_accuracy: 0.2560\n",
            "Epoch 2/3\n",
            "WARNING:tensorflow:multiprocessing can interact badly with TensorFlow, causing nondeterministic deadlocks. For high performance data pipelines tf.data is recommended.\n",
            "1562/1563 [============================>.] - ETA: 0s - loss: 2.0485 - accuracy: 0.2208WARNING:tensorflow:multiprocessing can interact badly with TensorFlow, causing nondeterministic deadlocks. For high performance data pipelines tf.data is recommended.\n",
            "1563/1563 [==============================] - 79s 50ms/step - loss: 2.0485 - accuracy: 0.2207 - val_loss: 2.0660 - val_accuracy: 0.2335\n",
            "Epoch 3/3\n",
            "WARNING:tensorflow:multiprocessing can interact badly with TensorFlow, causing nondeterministic deadlocks. For high performance data pipelines tf.data is recommended.\n",
            "1562/1563 [============================>.] - ETA: 0s - loss: 2.0432 - accuracy: 0.2254WARNING:tensorflow:multiprocessing can interact badly with TensorFlow, causing nondeterministic deadlocks. For high performance data pipelines tf.data is recommended.\n",
            "1563/1563 [==============================] - 77s 49ms/step - loss: 2.0432 - accuracy: 0.2254 - val_loss: 2.0754 - val_accuracy: 0.2415\n",
            "\n",
            "used time: 233.4375457763672 \n",
            "\n"
          ],
          "name": "stdout"
        }
      ]
    },
    {
      "cell_type": "code",
      "metadata": {
        "id": "byzNqseH3hqb",
        "outputId": "5d75306d-83d7-4e6f-d2a0-8bfc224841a0",
        "colab": {
          "base_uri": "https://localhost:8080/",
          "height": 245
        }
      },
      "source": [
        "# Save model and weights\n",
        "if not os.path.isdir(save_dir):\n",
        "    os.makedirs(save_dir)\n",
        "model_path = os.path.join(save_dir, model_name_a)\n",
        "model.save(model_path)\n",
        "print('Saved trained model at %s ' % model_path)\n"
      ],
      "execution_count": 1,
      "outputs": [
        {
          "output_type": "error",
          "ename": "NameError",
          "evalue": "ignored",
          "traceback": [
            "\u001b[0;31m---------------------------------------------------------------------------\u001b[0m",
            "\u001b[0;31mNameError\u001b[0m                                 Traceback (most recent call last)",
            "\u001b[0;32m<ipython-input-1-b5067ed3e262>\u001b[0m in \u001b[0;36m<module>\u001b[0;34m()\u001b[0m\n\u001b[1;32m      1\u001b[0m \u001b[0;31m# Save model and weights\u001b[0m\u001b[0;34m\u001b[0m\u001b[0;34m\u001b[0m\u001b[0;34m\u001b[0m\u001b[0m\n\u001b[0;32m----> 2\u001b[0;31m \u001b[0;32mif\u001b[0m \u001b[0;32mnot\u001b[0m \u001b[0mos\u001b[0m\u001b[0;34m.\u001b[0m\u001b[0mpath\u001b[0m\u001b[0;34m.\u001b[0m\u001b[0misdir\u001b[0m\u001b[0;34m(\u001b[0m\u001b[0msave_dir\u001b[0m\u001b[0;34m)\u001b[0m\u001b[0;34m:\u001b[0m\u001b[0;34m\u001b[0m\u001b[0;34m\u001b[0m\u001b[0m\n\u001b[0m\u001b[1;32m      3\u001b[0m     \u001b[0mos\u001b[0m\u001b[0;34m.\u001b[0m\u001b[0mmakedirs\u001b[0m\u001b[0;34m(\u001b[0m\u001b[0msave_dir\u001b[0m\u001b[0;34m)\u001b[0m\u001b[0;34m\u001b[0m\u001b[0;34m\u001b[0m\u001b[0m\n\u001b[1;32m      4\u001b[0m \u001b[0mmodel_path\u001b[0m \u001b[0;34m=\u001b[0m \u001b[0mos\u001b[0m\u001b[0;34m.\u001b[0m\u001b[0mpath\u001b[0m\u001b[0;34m.\u001b[0m\u001b[0mjoin\u001b[0m\u001b[0;34m(\u001b[0m\u001b[0msave_dir\u001b[0m\u001b[0;34m,\u001b[0m \u001b[0mmodel_name_a\u001b[0m\u001b[0;34m)\u001b[0m\u001b[0;34m\u001b[0m\u001b[0;34m\u001b[0m\u001b[0m\n\u001b[1;32m      5\u001b[0m \u001b[0mmodel\u001b[0m\u001b[0;34m.\u001b[0m\u001b[0msave\u001b[0m\u001b[0;34m(\u001b[0m\u001b[0mmodel_path\u001b[0m\u001b[0;34m)\u001b[0m\u001b[0;34m\u001b[0m\u001b[0;34m\u001b[0m\u001b[0m\n",
            "\u001b[0;31mNameError\u001b[0m: name 'os' is not defined"
          ]
        }
      ]
    },
    {
      "cell_type": "code",
      "metadata": {
        "id": "qD_ViLnn345b",
        "outputId": "9be897e4-cd28-4545-e66f-68ffd9ad23ff",
        "colab": {
          "base_uri": "https://localhost:8080/",
          "height": 279
        }
      },
      "source": [
        "import matplotlib.pyplot as plt\n",
        "epoch=range(1,(len(history_model.history['val_accuracy'])+1))\n",
        "plt.plot(epoch,history_model.history['val_accuracy'])\n",
        "plt.plot(epoch,history_model_sdnn_0.history['val_accuracy'])\n",
        "plt.plot(epoch,history_model_sdnn_1.history['val_accuracy'])\n",
        "plt.plot(epoch,history_model_sdnn_2.history['val_accuracy'])\n",
        "plt.plot(epoch,history_model_sdnn_3.history['val_accuracy'])\n",
        "plt.plot(epoch,history_model_sdnn_4.history['val_accuracy'])\n",
        "plt.ylabel('accuracy')\n",
        "plt.xlabel('epoch')\n",
        "plt.legend(['cnn','ann0','ann1','ann2','ann3','ann4'], loc='upper left')\n",
        "plt.show()"
      ],
      "execution_count": 43,
      "outputs": [
        {
          "output_type": "display_data",
          "data": {
            "image/png": "[encoded data removed]",
            "text/plain": [
              "<Figure size 432x288 with 1 Axes>"
            ]
          },
          "metadata": {
            "tags": [],
            "needs_background": "light"
          }
        }
      ]
    },
    {
      "cell_type": "code",
      "metadata": {
        "id": "_oocPUIsOKkU",
        "outputId": "6724ed71-fc29-4acc-8054-515391faf96d",
        "colab": {
          "base_uri": "https://localhost:8080/",
          "height": 71
        }
      },
      "source": [
        "scores = model.evaluate(x_test, y_test, verbose=1)\n",
        "print('Test loss:', scores[0])\n",
        "print('Test accuracy:', scores[1])"
      ],
      "execution_count": 44,
      "outputs": [
        {
          "output_type": "stream",
          "text": [
            "313/313 [==============================] - 12s 38ms/step - loss: 0.8831 - accuracy: 0.6920\n",
            "Test loss: 0.8830771446228027\n",
            "Test accuracy: 0.6919999718666077\n"
          ],
          "name": "stdout"
        }
      ]
    },
    {
      "cell_type": "code",
      "metadata": {
        "id": "N6_9J3ZTOBj2",
        "outputId": "f96728e4-2675-41f7-d21e-5cfda3cf8876",
        "colab": {
          "base_uri": "https://localhost:8080/",
          "height": 191
        }
      },
      "source": [
        "import matplotlib.pyplot as plt\n",
        "plt.plot(model.history['val_accuracy'])"
      ],
      "execution_count": 3,
      "outputs": [
        {
          "output_type": "error",
          "ename": "NameError",
          "evalue": "ignored",
          "traceback": [
            "\u001b[0;31m---------------------------------------------------------------------------\u001b[0m",
            "\u001b[0;31mNameError\u001b[0m                                 Traceback (most recent call last)",
            "\u001b[0;32m<ipython-input-3-234cc4323ad1>\u001b[0m in \u001b[0;36m<module>\u001b[0;34m()\u001b[0m\n\u001b[1;32m      1\u001b[0m \u001b[0;32mimport\u001b[0m \u001b[0mmatplotlib\u001b[0m\u001b[0;34m.\u001b[0m\u001b[0mpyplot\u001b[0m \u001b[0;32mas\u001b[0m \u001b[0mplt\u001b[0m\u001b[0;34m\u001b[0m\u001b[0;34m\u001b[0m\u001b[0m\n\u001b[0;32m----> 2\u001b[0;31m \u001b[0mplt\u001b[0m\u001b[0;34m.\u001b[0m\u001b[0mplot\u001b[0m\u001b[0;34m(\u001b[0m\u001b[0mmodel\u001b[0m\u001b[0;34m.\u001b[0m\u001b[0mhistory\u001b[0m\u001b[0;34m[\u001b[0m\u001b[0;34m'val_accuracy'\u001b[0m\u001b[0;34m]\u001b[0m\u001b[0;34m)\u001b[0m\u001b[0;34m\u001b[0m\u001b[0;34m\u001b[0m\u001b[0m\n\u001b[0m",
            "\u001b[0;31mNameError\u001b[0m: name 'model' is not defined"
          ]
        }
      ]
    },
    {
      "cell_type": "markdown",
      "metadata": {
        "id": "z0ylx7P-602q"
      },
      "source": [
        "(b)"
      ]
    },
    {
      "cell_type": "code",
      "metadata": {
        "id": "oxu8G9j56kgH"
      },
      "source": [
        "# cnn-sigmoid\n",
        "model_sig = Sequential()\n",
        "model_sig.add(Conv2D(32, (3, 3), padding='same',\n",
        "                 input_shape=x_train.shape[1:]))\n",
        "model_sig.add(Activation('sigmoid'))\n",
        "model_sig.add(Conv2D(32, (3, 3)))\n",
        "model_sig.add(Activation('sigmoid'))\n",
        "model_sig.add(MaxPooling2D(pool_size=(2, 2)))\n",
        "model_sig.add(Dropout(0.25))\n",
        "\n",
        "model_sig.add(Conv2D(64, (3, 3), padding='same'))\n",
        "model_sig.add(Activation('sigmoid'))\n",
        "model_sig.add(Conv2D(64, (3, 3)))\n",
        "model_sig.add(Activation('sigmoid'))\n",
        "model_sig.add(MaxPooling2D(pool_size=(2, 2)))\n",
        "model_sig.add(Dropout(0.25))\n",
        "\n",
        "model_sig.add(Flatten())\n",
        "model_sig.add(Dense(512))\n",
        "model_sig.add(Activation('sigmoid'))\n",
        "model_sig.add(Dropout(0.5))\n",
        "model_sig.add(Dense(num_classes))\n",
        "model_sig.add(Activation('softmax'))\n",
        "model_sig.compile(loss='categorical_crossentropy',\n",
        "              optimizer=opt,\n",
        "              metrics=['accuracy'])\n",
        "import time\n",
        "if not data_augmentation:\n",
        "    print('Not using data augmentation.')\n",
        "    model_sig.fit(x_train, y_train,\n",
        "              batch_size=batch_size,\n",
        "              epochs=epochs,\n",
        "              validation_data=(x_test, y_test),\n",
        "              shuffle=True)\n",
        "else:\n",
        "    print('Using real-time data augmentation.')\n",
        "    # This will do preprocessing and realtime data augmentation:\n",
        "    datagen = ImageDataGenerator(\n",
        "        featurewise_center=False,  # set input mean to 0 over the dataset\n",
        "        samplewise_center=False,  # set each sample mean to 0\n",
        "        featurewise_std_normalization=False,  # divide inputs by std of the dataset\n",
        "        samplewise_std_normalization=False,  # divide each input by its std\n",
        "        zca_whitening=False,  # apply ZCA whitening\n",
        "        zca_epsilon=1e-06,  # epsilon for ZCA whitening\n",
        "        rotation_range=0,  # randomly rotate images in the range (degrees, 0 to 180)\n",
        "        # randomly shift images horizontally (fraction of total width)\n",
        "        width_shift_range=0.1,\n",
        "        # randomly shift images vertically (fraction of total height)\n",
        "        height_shift_range=0.1,\n",
        "        shear_range=0.,  # set range for random shear\n",
        "        zoom_range=0.,  # set range for random zoom\n",
        "        channel_shift_range=0.,  # set range for random channel shifts\n",
        "        # set mode for filling points outside the input boundaries\n",
        "        fill_mode='nearest',\n",
        "        cval=0.,  # value used for fill_mode = \"constant\"\n",
        "        horizontal_flip=True,  # randomly flip images\n",
        "        vertical_flip=False,  # randomly flip images\n",
        "        # set rescaling factor (applied before any other transformation)\n",
        "        rescale=None,\n",
        "        # set function that will be applied on each input\n",
        "        preprocessing_function=None,\n",
        "        # image data format, either \"channels_first\" or \"channels_last\"\n",
        "        data_format=None,\n",
        "        # fraction of images reserved for validation (strictly between 0 and 1)\n",
        "        validation_split=0.0)\n",
        "\n",
        "    # Compute quantities required for feature-wise normalization\n",
        "    # (std, mean, and principal components if ZCA whitening is applied).\n",
        "    datagen.fit(x_train)\n",
        "\n",
        "    # Fit the model on the batches generated by datagen.flow().\n",
        "    tic=time.time()\n",
        "    model_sig.fit_generator(datagen.flow(x_train, y_train,\n",
        "                                     batch_size=batch_size),\n",
        "                        epochs=epochs,\n",
        "                        validation_data=(x_test, y_test),\n",
        "                        workers=4,\n",
        "                        use_multiprocessing=True)\n",
        "    toc=time.time()\n",
        "    print('\\nused time:',toc-tic,'\\n')\n"
      ],
      "execution_count": null,
      "outputs": []
    },
    {
      "cell_type": "code",
      "metadata": {
        "id": "Z_UDwb76HPwS"
      },
      "source": [
        "# Save model and weights\n",
        "if not os.path.isdir(save_dir):\n",
        "    os.makedirs(save_dir)\n",
        "model_path = os.path.join(save_dir, model_name_b)\n",
        "model.save(model_path)\n",
        "print('Saved trained model at %s ' % model_path)"
      ],
      "execution_count": null,
      "outputs": []
    },
    {
      "cell_type": "code",
      "metadata": {
        "id": "vTu1T8W-GCAB"
      },
      "source": [
        "plt.plot(model.history['val_accuracy'])\n",
        "plt.plot(model_sig.history['val_accuracy'])\n",
        "plt.ylabel('accuracy')\n",
        "plt.xlabel('epoch')\n",
        "plt.legend(['cnn-relu', 'cnn-sigmoid'], loc='upper left')\n",
        "plt.show()"
      ],
      "execution_count": null,
      "outputs": []
    },
    {
      "cell_type": "markdown",
      "metadata": {
        "id": "EiAG5kDoFRB6"
      },
      "source": [
        "Explain:"
      ]
    },
    {
      "cell_type": "markdown",
      "metadata": {
        "id": "R8S1D2FtGVkK"
      },
      "source": [
        "(c)"
      ]
    },
    {
      "cell_type": "code",
      "metadata": {
        "id": "yrSQRHhIH-PV"
      },
      "source": [
        "# yes dropout, yes augment cnn: model"
      ],
      "execution_count": null,
      "outputs": []
    },
    {
      "cell_type": "code",
      "metadata": {
        "id": "ZSKI3b6HHav_"
      },
      "source": [
        "#no dropout, yes augment: model_ndya\n",
        "\n",
        "data_augmentation = True\n",
        "\n",
        "model_ndya = Sequential()\n",
        "model_ndya.add(Conv2D(32, (3, 3), padding='same',\n",
        "                 input_shape=x_train.shape[1:]))\n",
        "model_ndya.add(Activation('relu'))\n",
        "model_ndya.add(Conv2D(32, (3, 3)))\n",
        "model_ndya.add(Activation('relu'))\n",
        "model_ndya.add(MaxPooling2D(pool_size=(2, 2)))\n",
        "\n",
        "model_ndya.add(Conv2D(64, (3, 3), padding='same'))\n",
        "model_ndya.add(Activation('relu'))\n",
        "model_ndya.add(Conv2D(64, (3, 3)))\n",
        "model_ndya.add(Activation('relu'))\n",
        "model_ndya.add(MaxPooling2D(pool_size=(2, 2)))\n",
        "\n",
        "model_ndya.add(Flatten())\n",
        "model_ndya.add(Dense(512))\n",
        "model_ndya.add(Activation('relu'))\n",
        "model_ndya.add(Dense(num_classes))\n",
        "model_ndya.add(Activation('softmax'))\n",
        "\n",
        "model_ndya.compile(loss='categorical_crossentropy',\n",
        "              optimizer=opt,\n",
        "              metrics=['accuracy'])\n",
        "\n",
        "import time\n",
        "if not data_augmentation:\n",
        "    print('Not using data augmentation.')\n",
        "    model_ndya.fit(x_train, y_train,\n",
        "              batch_size=batch_size,\n",
        "              epochs=epochs,\n",
        "              validation_data=(x_test, y_test),\n",
        "              shuffle=True)\n",
        "else:\n",
        "    print('Using real-time data augmentation.')\n",
        "    # This will do preprocessing and realtime data augmentation:\n",
        "    datagen = ImageDataGenerator(\n",
        "        featurewise_center=False,  # set input mean to 0 over the dataset\n",
        "        samplewise_center=False,  # set each sample mean to 0\n",
        "        featurewise_std_normalization=False,  # divide inputs by std of the dataset\n",
        "        samplewise_std_normalization=False,  # divide each input by its std\n",
        "        zca_whitening=False,  # apply ZCA whitening\n",
        "        zca_epsilon=1e-06,  # epsilon for ZCA whitening\n",
        "        rotation_range=0,  # randomly rotate images in the range (degrees, 0 to 180)\n",
        "        # randomly shift images horizontally (fraction of total width)\n",
        "        width_shift_range=0.1,\n",
        "        # randomly shift images vertically (fraction of total height)\n",
        "        height_shift_range=0.1,\n",
        "        shear_range=0.,  # set range for random shear\n",
        "        zoom_range=0.,  # set range for random zoom\n",
        "        channel_shift_range=0.,  # set range for random channel shifts\n",
        "        # set mode for filling points outside the input boundaries\n",
        "        fill_mode='nearest',\n",
        "        cval=0.,  # value used for fill_mode = \"constant\"\n",
        "        horizontal_flip=True,  # randomly flip images\n",
        "        vertical_flip=False,  # randomly flip images\n",
        "        # set rescaling factor (applied before any other transformation)\n",
        "        rescale=None,\n",
        "        # set function that will be applied on each input\n",
        "        preprocessing_function=None,\n",
        "        # image data format, either \"channels_first\" or \"channels_last\"\n",
        "        data_format=None,\n",
        "        # fraction of images reserved for validation (strictly between 0 and 1)\n",
        "        validation_split=0.0)\n",
        "\n",
        "    # Compute quantities required for feature-wise normalization\n",
        "    # (std, mean, and principal components if ZCA whitening is applied).\n",
        "    datagen.fit(x_train)\n",
        "\n",
        "    # Fit the model on the batches generated by datagen.flow().\n",
        "    tic=time.time()\n",
        "    model_ndya.fit_generator(datagen.flow(x_train, y_train,\n",
        "                                     batch_size=batch_size),\n",
        "                        epochs=epochs,\n",
        "                        validation_data=(x_test, y_test),\n",
        "                        workers=4,\n",
        "                        use_multiprocessing=True)\n",
        "    toc=time.time()\n",
        "    print('\\nused time:',toc-tic,'\\n')"
      ],
      "execution_count": null,
      "outputs": []
    },
    {
      "cell_type": "code",
      "metadata": {
        "id": "Nt9Ug85AHpVZ"
      },
      "source": [
        "#yes dropout, no augment: model_ndya\n",
        "\n",
        "data_augmentation = False\n",
        "\n",
        "model_ydna = Sequential()\n",
        "model_ydna.add(Conv2D(32, (3, 3), padding='same',\n",
        "                 input_shape=x_train.shape[1:]))\n",
        "model_ydna.add(Activation('relu'))\n",
        "model_ydna.add(Conv2D(32, (3, 3)))\n",
        "model_ydna.add(Activation('relu'))\n",
        "model_ydna.add(MaxPooling2D(pool_size=(2, 2)))\n",
        "model_ydna.add(Dropout(0.25))\n",
        "\n",
        "model_ydna.add(Conv2D(64, (3, 3), padding='same'))\n",
        "model_ydna.add(Activation('relu'))\n",
        "model_ydna.add(Conv2D(64, (3, 3)))\n",
        "model_ydna.add(Activation('relu'))\n",
        "model_ydna.add(MaxPooling2D(pool_size=(2, 2)))\n",
        "model_ydna.add(Dropout(0.25))\n",
        "\n",
        "model_ydna.add(Flatten())\n",
        "model_ydna.add(Dense(512))\n",
        "model_ydna.add(Activation('relu'))\n",
        "model_ydna.add(Dropout(0.5))\n",
        "model_ydna.add(Dense(num_classes))\n",
        "model_ydna.add(Activation('softmax'))\n",
        "\n",
        "model_ydna.compile(loss='categorical_crossentropy',\n",
        "              optimizer=opt,\n",
        "              metrics=['accuracy'])\n",
        "\n",
        "import time\n",
        "if not data_augmentation:\n",
        "    print('Not using data augmentation.')\n",
        "    model_ydna.fit(x_train, y_train,\n",
        "              batch_size=batch_size,\n",
        "              epochs=epochs,\n",
        "              validation_data=(x_test, y_test),\n",
        "              shuffle=True)\n",
        "else:\n",
        "    print('Using real-time data augmentation.')\n",
        "    # This will do preprocessing and realtime data augmentation:\n",
        "    datagen = ImageDataGenerator(\n",
        "        featurewise_center=False,  # set input mean to 0 over the dataset\n",
        "        samplewise_center=False,  # set each sample mean to 0\n",
        "        featurewise_std_normalization=False,  # divide inputs by std of the dataset\n",
        "        samplewise_std_normalization=False,  # divide each input by its std\n",
        "        zca_whitening=False,  # apply ZCA whitening\n",
        "        zca_epsilon=1e-06,  # epsilon for ZCA whitening\n",
        "        rotation_range=0,  # randomly rotate images in the range (degrees, 0 to 180)\n",
        "        # randomly shift images horizontally (fraction of total width)\n",
        "        width_shift_range=0.1,\n",
        "        # randomly shift images vertically (fraction of total height)\n",
        "        height_shift_range=0.1,\n",
        "        shear_range=0.,  # set range for random shear\n",
        "        zoom_range=0.,  # set range for random zoom\n",
        "        channel_shift_range=0.,  # set range for random channel shifts\n",
        "        # set mode for filling points outside the input boundaries\n",
        "        fill_mode='nearest',\n",
        "        cval=0.,  # value used for fill_mode = \"constant\"\n",
        "        horizontal_flip=True,  # randomly flip images\n",
        "        vertical_flip=False,  # randomly flip images\n",
        "        # set rescaling factor (applied before any other transformation)\n",
        "        rescale=None,\n",
        "        # set function that will be applied on each input\n",
        "        preprocessing_function=None,\n",
        "        # image data format, either \"channels_first\" or \"channels_last\"\n",
        "        data_format=None,\n",
        "        # fraction of images reserved for validation (strictly between 0 and 1)\n",
        "        validation_split=0.0)\n",
        "\n",
        "    # Compute quantities required for feature-wise normalization\n",
        "    # (std, mean, and principal components if ZCA whitening is applied).\n",
        "    datagen.fit(x_train)\n",
        "\n",
        "    # Fit the model on the batches generated by datagen.flow().\n",
        "    tic=time.time()\n",
        "    model_ydna.fit_generator(datagen.flow(x_train, y_train,\n",
        "                                     batch_size=batch_size),\n",
        "                        epochs=epochs,\n",
        "                        validation_data=(x_test, y_test),\n",
        "                        workers=4,\n",
        "                        use_multiprocessing=True)\n",
        "    toc=time.time()\n",
        "    print('\\nused time:',toc-tic,'\\n')"
      ],
      "execution_count": null,
      "outputs": []
    },
    {
      "cell_type": "code",
      "metadata": {
        "id": "n67zCVKpHpeM"
      },
      "source": [
        "#no dropout, n augment: model_ndna\n",
        "\n",
        "data_augmentation = False\n",
        "\n",
        "model_ndna = Sequential()\n",
        "model_ndna.add(Conv2D(32, (3, 3), padding='same',\n",
        "                 input_shape=x_train.shape[1:]))\n",
        "model_ndna.add(Activation('relu'))\n",
        "model_ndna.add(Conv2D(32, (3, 3)))\n",
        "model_ndna.add(Activation('relu'))\n",
        "model_ndna.add(MaxPooling2D(pool_size=(2, 2)))\n",
        "\n",
        "model_ndna.add(Conv2D(64, (3, 3), padding='same'))\n",
        "model_ndna.add(Activation('relu'))\n",
        "model_ndna.add(Conv2D(64, (3, 3)))\n",
        "model_ndna.add(Activation('relu'))\n",
        "model_ndna.add(MaxPooling2D(pool_size=(2, 2)))\n",
        "\n",
        "model_ndna.add(Flatten())\n",
        "model_ndna.add(Dense(512))\n",
        "model_ndna.add(Activation('relu'))\n",
        "model_ndna.add(Dense(num_classes))\n",
        "model_ndna.add(Activation('softmax'))\n",
        "\n",
        "model_ndna.compile(loss='categorical_crossentropy',\n",
        "              optimizer=opt,\n",
        "              metrics=['accuracy'])\n",
        "\n",
        "import time\n",
        "if not data_augmentation:\n",
        "    print('Not using data augmentation.')\n",
        "    model_ndna.fit(x_train, y_train,\n",
        "              batch_size=batch_size,\n",
        "              epochs=epochs,\n",
        "              validation_data=(x_test, y_test),\n",
        "              shuffle=True)\n",
        "else:\n",
        "    print('Using real-time data augmentation.')\n",
        "    # This will do preprocessing and realtime data augmentation:\n",
        "    datagen = ImageDataGenerator(\n",
        "        featurewise_center=False,  # set input mean to 0 over the dataset\n",
        "        samplewise_center=False,  # set each sample mean to 0\n",
        "        featurewise_std_normalization=False,  # divide inputs by std of the dataset\n",
        "        samplewise_std_normalization=False,  # divide each input by its std\n",
        "        zca_whitening=False,  # apply ZCA whitening\n",
        "        zca_epsilon=1e-06,  # epsilon for ZCA whitening\n",
        "        rotation_range=0,  # randomly rotate images in the range (degrees, 0 to 180)\n",
        "        # randomly shift images horizontally (fraction of total width)\n",
        "        width_shift_range=0.1,\n",
        "        # randomly shift images vertically (fraction of total height)\n",
        "        height_shift_range=0.1,\n",
        "        shear_range=0.,  # set range for random shear\n",
        "        zoom_range=0.,  # set range for random zoom\n",
        "        channel_shift_range=0.,  # set range for random channel shifts\n",
        "        # set mode for filling points outside the input boundaries\n",
        "        fill_mode='nearest',\n",
        "        cval=0.,  # value used for fill_mode = \"constant\"\n",
        "        horizontal_flip=True,  # randomly flip images\n",
        "        vertical_flip=False,  # randomly flip images\n",
        "        # set rescaling factor (applied before any other transformation)\n",
        "        rescale=None,\n",
        "        # set function that will be applied on each input\n",
        "        preprocessing_function=None,\n",
        "        # image data format, either \"channels_first\" or \"channels_last\"\n",
        "        data_format=None,\n",
        "        # fraction of images reserved for validation (strictly between 0 and 1)\n",
        "        validation_split=0.0)\n",
        "\n",
        "    # Compute quantities required for feature-wise normalization\n",
        "    # (std, mean, and principal components if ZCA whitening is applied).\n",
        "    datagen.fit(x_train)\n",
        "\n",
        "    # Fit the model on the batches generated by datagen.flow().\n",
        "    tic=time.time()\n",
        "    model_ndna.fit_generator(datagen.flow(x_train, y_train,\n",
        "                                     batch_size=batch_size),\n",
        "                        epochs=epochs,\n",
        "                        validation_data=(x_test, y_test),\n",
        "                        workers=4,\n",
        "                        use_multiprocessing=True)\n",
        "    toc=time.time()\n",
        "    print('\\nused time:',toc-tic,'\\n')"
      ],
      "execution_count": null,
      "outputs": []
    },
    {
      "cell_type": "code",
      "metadata": {
        "id": "U6jxyVIpFRW6"
      },
      "source": [
        "\n"
      ],
      "execution_count": null,
      "outputs": []
    },
    {
      "cell_type": "code",
      "metadata": {
        "id": "8ipAhP-vGo5E"
      },
      "source": [
        ""
      ],
      "execution_count": null,
      "outputs": []
    }
  ]
}