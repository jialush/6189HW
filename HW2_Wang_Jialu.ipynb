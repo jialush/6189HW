{
  "nbformat": 4,
  "nbformat_minor": 0,
  "metadata": {
    "colab": {
      "name": "HW2_Wang_Jialu.ipynb",
      "provenance": [],
      "authorship_tag": "ABX9TyOdM/Y1OqKZVJ2g7fDJEq1v",
      "include_colab_link": true
    },
    "kernelspec": {
      "name": "python3",
      "display_name": "Python 3"
    }
  },
  "cells": [
    {
      "cell_type": "markdown",
      "metadata": {
        "id": "view-in-github",
        "colab_type": "text"
      },
      "source": [
        "<a href=\"https://colab.research.google.com/github/jialush/6189HW/blob/master/HW2_Wang_Jialu.ipynb\" target=\"_parent\"><img src=\"https://colab.research.google.com/assets/colab-badge.svg\" alt=\"Open In Colab\"/></a>"
      ]
    },
    {
      "cell_type": "code",
      "metadata": {
        "id": "qv8CklSHjwa7"
      },
      "source": [
        "from __future__ import print_function\n",
        "import keras\n",
        "from keras.datasets import cifar10\n",
        "from keras.preprocessing.image import ImageDataGenerator\n",
        "from keras.models import Sequential\n",
        "from keras.layers import Dense, Dropout, Activation, Flatten\n",
        "from keras.layers import Conv2D, MaxPooling2D\n",
        "import os"
      ],
      "execution_count": 2,
      "outputs": []
    },
    {
      "cell_type": "markdown",
      "metadata": {
        "id": "CXKogbBT6mG6"
      },
      "source": [
        "(a)\n",
        "\n"
      ]
    },
    {
      "cell_type": "code",
      "metadata": {
        "id": "Xk18iW2ylB5-"
      },
      "source": [
        "batch_size = 32\n",
        "num_classes = 10\n",
        "epochs = 10\n",
        "data_augmentation = True\n",
        "num_predictions = 20\n",
        "save_dir = os.path.join(os.getcwd(), 'saved_models')\n",
        "model_name_a = 'keras_cifar10_trained_modela.h5'\n",
        "model_name_b = 'keras_cifar10_trained_modelb.h5'\n",
        "model_name_c = 'keras_cifar10_trained_modelc.h5'"
      ],
      "execution_count": 3,
      "outputs": []
    },
    {
      "cell_type": "code",
      "metadata": {
        "id": "HB9_ehfDmUP9",
        "outputId": "04428d83-682f-4b27-bc70-f74b9c9ae4f2",
        "colab": {
          "base_uri": "https://localhost:8080/",
          "height": 107
        }
      },
      "source": [
        "# The data, split between train and test sets:\n",
        "(x_train, y_train), (x_test, y_test) = cifar10.load_data()\n",
        "print('x_train shape:', x_train.shape)\n",
        "print(x_train.shape[0], 'train samples')\n",
        "print(x_test.shape[0], 'test samples')\n",
        "\n",
        "# Convert class vectors to binary class matrices.\n",
        "y_train = keras.utils.to_categorical(y_train, num_classes)\n",
        "y_test = keras.utils.to_categorical(y_test, num_classes)\n"
      ],
      "execution_count": 4,
      "outputs": [
        {
          "output_type": "stream",
          "text": [
            "Downloading data from https://www.cs.toronto.edu/~kriz/cifar-10-python.tar.gz\n",
            "170500096/170498071 [==============================] - 2s 0us/step\n",
            "x_train shape: (50000, 32, 32, 3)\n",
            "50000 train samples\n",
            "10000 test samples\n"
          ],
          "name": "stdout"
        }
      ]
    },
    {
      "cell_type": "code",
      "metadata": {
        "id": "wykqf5clq8eZ"
      },
      "source": [
        "#simple dense neural network (sdnn), 0 hidden layers\n",
        "model_sdnn_0 = Sequential()\n",
        "model_sdnn_0.add(Flatten())\n",
        "model_sdnn_0.add(Dense(num_classes))\n",
        "model_sdnn_0.add(Activation('softmax'))"
      ],
      "execution_count": 5,
      "outputs": []
    },
    {
      "cell_type": "code",
      "metadata": {
        "id": "lv_d6NTsuYk-"
      },
      "source": [
        "#simple dense neural network (sdnn), 1 hidden layer\n",
        "model_sdnn_1 = Sequential()\n",
        "model_sdnn_1.add(Flatten())\n",
        "model_sdnn_1.add(Dense(512))\n",
        "model_sdnn_1.add(Activation('relu'))\n",
        "model_sdnn_1.add(Dropout(0.5))\n",
        "model_sdnn_1.add(Dense(num_classes))\n",
        "model_sdnn_1.add(Activation('softmax'))"
      ],
      "execution_count": 6,
      "outputs": []
    },
    {
      "cell_type": "code",
      "metadata": {
        "id": "zTB3wNbXvfJp"
      },
      "source": [
        "#simple dense neural network (sdnn), 2 hidden layer\n",
        "model_sdnn_2 = Sequential()\n",
        "model_sdnn_2.add(Flatten())\n",
        "model_sdnn_2.add(Dense(512))\n",
        "model_sdnn_2.add(Activation('relu'))\n",
        "model_sdnn_2.add(Dropout(0.5))\n",
        "model_sdnn_2.add(Dense(512))\n",
        "model_sdnn_2.add(Activation('relu'))\n",
        "model_sdnn_2.add(Dropout(0.5))\n",
        "model_sdnn_2.add(Dense(num_classes))\n",
        "model_sdnn_2.add(Activation('softmax'))"
      ],
      "execution_count": 7,
      "outputs": []
    },
    {
      "cell_type": "code",
      "metadata": {
        "id": "IGdnKw-ovg5o"
      },
      "source": [
        "#simple dense neural network (sdnn), 3 hidden layer\n",
        "model_sdnn_3 = Sequential()\n",
        "model_sdnn_3.add(Flatten())\n",
        "model_sdnn_3.add(Dense(512))\n",
        "model_sdnn_3.add(Activation('relu'))\n",
        "model_sdnn_3.add(Dropout(0.5))\n",
        "model_sdnn_3.add(Dense(512))\n",
        "model_sdnn_3.add(Activation('relu'))\n",
        "model_sdnn_3.add(Dropout(0.5))\n",
        "model_sdnn_3.add(Dense(512))\n",
        "model_sdnn_3.add(Activation('relu'))\n",
        "model_sdnn_3.add(Dropout(0.5))\n",
        "model_sdnn_3.add(Dense(num_classes))\n",
        "model_sdnn_3.add(Activation('softmax'))"
      ],
      "execution_count": 8,
      "outputs": []
    },
    {
      "cell_type": "code",
      "metadata": {
        "id": "uOXB1QmKvhsW"
      },
      "source": [
        "#simple dense neural network (sdnn), 4 hidden layer\n",
        "model_sdnn_4 = Sequential()\n",
        "model_sdnn_4.add(Flatten())\n",
        "model_sdnn_4.add(Dense(512))\n",
        "model_sdnn_4.add(Activation('relu'))\n",
        "model_sdnn_4.add(Dropout(0.5))\n",
        "model_sdnn_4.add(Dense(512))\n",
        "model_sdnn_4.add(Activation('relu'))\n",
        "model_sdnn_4.add(Dropout(0.5))\n",
        "model_sdnn_4.add(Dense(512))\n",
        "model_sdnn_4.add(Activation('relu'))\n",
        "model_sdnn_4.add(Dropout(0.5))\n",
        "model_sdnn_4.add(Dense(512))\n",
        "model_sdnn_4.add(Activation('relu'))\n",
        "model_sdnn_4.add(Dropout(0.5))\n",
        "model_sdnn_4.add(Dense(num_classes))\n",
        "model_sdnn_4.add(Activation('softmax'))"
      ],
      "execution_count": 10,
      "outputs": []
    },
    {
      "cell_type": "code",
      "metadata": {
        "id": "uQp3JywSy2mG"
      },
      "source": [
        "# cnn\n",
        "model = Sequential()\n",
        "model.add(Conv2D(32, (3, 3), padding='same',\n",
        "                 input_shape=x_train.shape[1:]))\n",
        "model.add(Activation('relu'))\n",
        "model.add(Conv2D(32, (3, 3)))\n",
        "model.add(Activation('relu'))\n",
        "model.add(MaxPooling2D(pool_size=(2, 2)))\n",
        "model.add(Dropout(0.25))\n",
        "\n",
        "model.add(Conv2D(64, (3, 3), padding='same'))\n",
        "model.add(Activation('relu'))\n",
        "model.add(Conv2D(64, (3, 3)))\n",
        "model.add(Activation('relu'))\n",
        "model.add(MaxPooling2D(pool_size=(2, 2)))\n",
        "model.add(Dropout(0.25))\n",
        "\n",
        "model.add(Flatten())\n",
        "model.add(Dense(512))\n",
        "model.add(Activation('relu'))\n",
        "model.add(Dropout(0.5))\n",
        "model.add(Dense(num_classes))\n",
        "model.add(Activation('softmax'))"
      ],
      "execution_count": 11,
      "outputs": []
    },
    {
      "cell_type": "code",
      "metadata": {
        "id": "sh1bmFGrxErJ"
      },
      "source": [
        "# initiate RMSprop optimizer\n",
        "opt = keras.optimizers.RMSprop(learning_rate=0.001, decay=1e-4)\n",
        "# Let's train the model using RMSprop\n",
        "model_sdnn_0.compile(loss='categorical_crossentropy',\n",
        "              optimizer=opt,\n",
        "              metrics=['accuracy'])\n",
        "\n",
        "model_sdnn_1.compile(loss='categorical_crossentropy',\n",
        "              optimizer=opt,\n",
        "              metrics=['accuracy'])\n",
        "model_sdnn_2.compile(loss='categorical_crossentropy',\n",
        "              optimizer=opt,\n",
        "              metrics=['accuracy'])\n",
        "model_sdnn_3.compile(loss='categorical_crossentropy',\n",
        "              optimizer=opt,\n",
        "              metrics=['accuracy'])\n",
        "model_sdnn_4.compile(loss='categorical_crossentropy',\n",
        "              optimizer=opt,\n",
        "              metrics=['accuracy'])\n",
        "model.compile(loss='categorical_crossentropy',\n",
        "              optimizer=opt,\n",
        "              metrics=['accuracy'])\n",
        "x_train = x_train.astype('float32')\n",
        "x_test = x_test.astype('float32')\n",
        "x_train /= 255\n",
        "x_test /= 255"
      ],
      "execution_count": 12,
      "outputs": []
    },
    {
      "cell_type": "code",
      "metadata": {
        "id": "_3lvSeaUkBE3",
        "outputId": "9426c4c7-b3ed-44aa-8cfb-5d230d97fc56",
        "colab": {
          "base_uri": "https://localhost:8080/",
          "height": 1000
        }
      },
      "source": [
        "import time\n",
        "if not data_augmentation:\n",
        "    print('Not using data augmentation.')\n",
        "    model.fit(x_train, y_train,\n",
        "              batch_size=batch_size,\n",
        "              epochs=epochs,\n",
        "              validation_data=(x_test, y_test),\n",
        "              shuffle=True)\n",
        "    model_sdnn_0.fit(x_train, y_train,\n",
        "              batch_size=batch_size,\n",
        "              epochs=epochs,\n",
        "              validation_data=(x_test, y_test),\n",
        "              shuffle=True)\n",
        "    model_sdnn_1.fit(x_train, y_train,\n",
        "              batch_size=batch_size,\n",
        "              epochs=epochs,\n",
        "              validation_data=(x_test, y_test),\n",
        "              shuffle=True)\n",
        "    model_sdnn_2.fit(x_train, y_train,\n",
        "              batch_size=batch_size,\n",
        "              epochs=epochs,\n",
        "              validation_data=(x_test, y_test),\n",
        "              shuffle=True)\n",
        "    model_sdnn_3.fit(x_train, y_train,\n",
        "              batch_size=batch_size,\n",
        "              epochs=epochs,\n",
        "              validation_data=(x_test, y_test),\n",
        "              shuffle=True)\n",
        "    model_sdnn_4.fit(x_train, y_train,\n",
        "              batch_size=batch_size,\n",
        "              epochs=epochs,\n",
        "              validation_data=(x_test, y_test),\n",
        "              shuffle=True)\n",
        "else:\n",
        "    print('Using real-time data augmentation.')\n",
        "    # This will do preprocessing and realtime data augmentation:\n",
        "    datagen = ImageDataGenerator(\n",
        "        featurewise_center=False,  # set input mean to 0 over the dataset\n",
        "        samplewise_center=False,  # set each sample mean to 0\n",
        "        featurewise_std_normalization=False,  # divide inputs by std of the dataset\n",
        "        samplewise_std_normalization=False,  # divide each input by its std\n",
        "        zca_whitening=False,  # apply ZCA whitening\n",
        "        zca_epsilon=1e-06,  # epsilon for ZCA whitening\n",
        "        rotation_range=0,  # randomly rotate images in the range (degrees, 0 to 180)\n",
        "        # randomly shift images horizontally (fraction of total width)\n",
        "        width_shift_range=0.1,\n",
        "        # randomly shift images vertically (fraction of total height)\n",
        "        height_shift_range=0.1,\n",
        "        shear_range=0.,  # set range for random shear\n",
        "        zoom_range=0.,  # set range for random zoom\n",
        "        channel_shift_range=0.,  # set range for random channel shifts\n",
        "        # set mode for filling points outside the input boundaries\n",
        "        fill_mode='nearest',\n",
        "        cval=0.,  # value used for fill_mode = \"constant\"\n",
        "        horizontal_flip=True,  # randomly flip images\n",
        "        vertical_flip=False,  # randomly flip images\n",
        "        # set rescaling factor (applied before any other transformation)\n",
        "        rescale=None,\n",
        "        # set function that will be applied on each input\n",
        "        preprocessing_function=None,\n",
        "        # image data format, either \"channels_first\" or \"channels_last\"\n",
        "        data_format=None,\n",
        "        # fraction of images reserved for validation (strictly between 0 and 1)\n",
        "        validation_split=0.0)\n",
        "\n",
        "    # Compute quantities required for feature-wise normalization\n",
        "    # (std, mean, and principal components if ZCA whitening is applied).\n",
        "    datagen.fit(x_train)\n",
        "\n",
        "    # Fit the model on the batches generated by datagen.flow().\n",
        "    tic=time.time()\n",
        "    history_model=model.fit_generator(datagen.flow(x_train, y_train,\n",
        "                                     batch_size=batch_size),\n",
        "                        epochs=epochs,\n",
        "                        validation_data=(x_test, y_test),\n",
        "                        workers=4,\n",
        "                        use_multiprocessing=True)\n",
        "    toc=time.time()\n",
        "    print('\\nused time:',toc-tic,'\\n')\n",
        "    \n",
        "    tic=time.time()\n",
        "    history_model_sdnn_0=model_sdnn_0.fit_generator(datagen.flow(x_train, y_train,\n",
        "                                     batch_size=batch_size),\n",
        "                        epochs=epochs,\n",
        "                        validation_data=(x_test, y_test),\n",
        "                        workers=4,\n",
        "                        use_multiprocessing=True)\n",
        "    toc=time.time()\n",
        "    print('\\nused time:',toc-tic,'\\n')\n",
        "\n",
        "    tic=time.time()\n",
        "    history_model_sdnn_1=model_sdnn_1.fit_generator(datagen.flow(x_train, y_train,\n",
        "                                     batch_size=batch_size),\n",
        "                        epochs=epochs,\n",
        "                        validation_data=(x_test, y_test),\n",
        "                        workers=4,\n",
        "                        use_multiprocessing=True)\n",
        "    toc=time.time()\n",
        "    print('\\nused time:',toc-tic,'\\n')\n",
        "\n",
        "    tic=time.time()\n",
        "    history_model_sdnn_2=model_sdnn_2.fit_generator(datagen.flow(x_train, y_train,\n",
        "                                     batch_size=batch_size),\n",
        "                        epochs=epochs,\n",
        "                        validation_data=(x_test, y_test),\n",
        "                        workers=4,\n",
        "                        use_multiprocessing=True)\n",
        "    toc=time.time()\n",
        "    print('\\nused time:',toc-tic,'\\n')\n",
        "\n",
        "    tic=time.time()\n",
        "    history_model_sdnn_3=model_sdnn_3.fit_generator(datagen.flow(x_train, y_train,\n",
        "                                     batch_size=batch_size),\n",
        "                        epochs=epochs,\n",
        "                        validation_data=(x_test, y_test),\n",
        "                        workers=4,\n",
        "                        use_multiprocessing=True)\n",
        "    toc=time.time()\n",
        "    print('\\nused time:',toc-tic,'\\n')\n",
        "\n",
        "    tic=time.time()\n",
        "    history_model_sdnn_4=model_sdnn_4.fit_generator(datagen.flow(x_train, y_train,\n",
        "                                     batch_size=batch_size),\n",
        "                        epochs=epochs,\n",
        "                        validation_data=(x_test, y_test),\n",
        "                        workers=4,\n",
        "                        use_multiprocessing=True)\n",
        "    toc=time.time()\n",
        "    print('\\nused time:',toc-tic,'\\n')\n"
      ],
      "execution_count": 13,
      "outputs": [
        {
          "output_type": "stream",
          "text": [
            "Using real-time data augmentation.\n",
            "WARNING:tensorflow:From <ipython-input-13-327cc374a21d>:77: Model.fit_generator (from tensorflow.python.keras.engine.training) is deprecated and will be removed in a future version.\n",
            "Instructions for updating:\n",
            "Please use Model.fit, which supports generators.\n",
            "Epoch 1/10\n",
            "WARNING:tensorflow:multiprocessing can interact badly with TensorFlow, causing nondeterministic deadlocks. For high performance data pipelines tf.data is recommended.\n",
            "1562/1563 [============================>.] - ETA: 0s - loss: 1.6268 - accuracy: 0.4068WARNING:tensorflow:multiprocessing can interact badly with TensorFlow, causing nondeterministic deadlocks. For high performance data pipelines tf.data is recommended.\n",
            "1563/1563 [==============================] - 263s 168ms/step - loss: 1.6265 - accuracy: 0.4069 - val_loss: 1.1859 - val_accuracy: 0.5802\n",
            "Epoch 2/10\n",
            "WARNING:tensorflow:multiprocessing can interact badly with TensorFlow, causing nondeterministic deadlocks. For high performance data pipelines tf.data is recommended.\n",
            "1562/1563 [============================>.] - ETA: 0s - loss: 1.2663 - accuracy: 0.5501WARNING:tensorflow:multiprocessing can interact badly with TensorFlow, causing nondeterministic deadlocks. For high performance data pipelines tf.data is recommended.\n",
            "1563/1563 [==============================] - 263s 168ms/step - loss: 1.2662 - accuracy: 0.5501 - val_loss: 1.0599 - val_accuracy: 0.6324\n",
            "Epoch 3/10\n",
            "WARNING:tensorflow:multiprocessing can interact badly with TensorFlow, causing nondeterministic deadlocks. For high performance data pipelines tf.data is recommended.\n",
            "1562/1563 [============================>.] - ETA: 0s - loss: 1.1302 - accuracy: 0.6050WARNING:tensorflow:multiprocessing can interact badly with TensorFlow, causing nondeterministic deadlocks. For high performance data pipelines tf.data is recommended.\n",
            "1563/1563 [==============================] - 267s 171ms/step - loss: 1.1301 - accuracy: 0.6050 - val_loss: 0.9463 - val_accuracy: 0.6788\n",
            "Epoch 4/10\n",
            "WARNING:tensorflow:multiprocessing can interact badly with TensorFlow, causing nondeterministic deadlocks. For high performance data pipelines tf.data is recommended.\n",
            "1562/1563 [============================>.] - ETA: 0s - loss: 1.0620 - accuracy: 0.6307WARNING:tensorflow:multiprocessing can interact badly with TensorFlow, causing nondeterministic deadlocks. For high performance data pipelines tf.data is recommended.\n",
            "1563/1563 [==============================] - 265s 170ms/step - loss: 1.0620 - accuracy: 0.6307 - val_loss: 0.8639 - val_accuracy: 0.7053\n",
            "Epoch 5/10\n",
            "WARNING:tensorflow:multiprocessing can interact badly with TensorFlow, causing nondeterministic deadlocks. For high performance data pipelines tf.data is recommended.\n",
            "1562/1563 [============================>.] - ETA: 0s - loss: 1.0265 - accuracy: 0.6451WARNING:tensorflow:multiprocessing can interact badly with TensorFlow, causing nondeterministic deadlocks. For high performance data pipelines tf.data is recommended.\n",
            "1563/1563 [==============================] - 267s 171ms/step - loss: 1.0266 - accuracy: 0.6450 - val_loss: 1.0044 - val_accuracy: 0.6734\n",
            "Epoch 6/10\n",
            "WARNING:tensorflow:multiprocessing can interact badly with TensorFlow, causing nondeterministic deadlocks. For high performance data pipelines tf.data is recommended.\n",
            "1562/1563 [============================>.] - ETA: 0s - loss: 0.9994 - accuracy: 0.6590WARNING:tensorflow:multiprocessing can interact badly with TensorFlow, causing nondeterministic deadlocks. For high performance data pipelines tf.data is recommended.\n",
            "1563/1563 [==============================] - 268s 171ms/step - loss: 0.9993 - accuracy: 0.6590 - val_loss: 0.8888 - val_accuracy: 0.7128\n",
            "Epoch 7/10\n",
            "WARNING:tensorflow:multiprocessing can interact badly with TensorFlow, causing nondeterministic deadlocks. For high performance data pipelines tf.data is recommended.\n",
            "1562/1563 [============================>.] - ETA: 0s - loss: 0.9833 - accuracy: 0.6652WARNING:tensorflow:multiprocessing can interact badly with TensorFlow, causing nondeterministic deadlocks. For high performance data pipelines tf.data is recommended.\n",
            "1563/1563 [==============================] - 267s 171ms/step - loss: 0.9832 - accuracy: 0.6652 - val_loss: 0.9392 - val_accuracy: 0.6936\n",
            "Epoch 8/10\n",
            "WARNING:tensorflow:multiprocessing can interact badly with TensorFlow, causing nondeterministic deadlocks. For high performance data pipelines tf.data is recommended.\n",
            "1562/1563 [============================>.] - ETA: 0s - loss: 0.9830 - accuracy: 0.6672WARNING:tensorflow:multiprocessing can interact badly with TensorFlow, causing nondeterministic deadlocks. For high performance data pipelines tf.data is recommended.\n",
            "1563/1563 [==============================] - 270s 172ms/step - loss: 0.9829 - accuracy: 0.6673 - val_loss: 1.0025 - val_accuracy: 0.6675\n",
            "Epoch 9/10\n",
            "WARNING:tensorflow:multiprocessing can interact badly with TensorFlow, causing nondeterministic deadlocks. For high performance data pipelines tf.data is recommended.\n",
            "1562/1563 [============================>.] - ETA: 0s - loss: 0.9676 - accuracy: 0.6722WARNING:tensorflow:multiprocessing can interact badly with TensorFlow, causing nondeterministic deadlocks. For high performance data pipelines tf.data is recommended.\n",
            "1563/1563 [==============================] - 270s 173ms/step - loss: 0.9675 - accuracy: 0.6722 - val_loss: 0.9422 - val_accuracy: 0.7020\n",
            "Epoch 10/10\n",
            "WARNING:tensorflow:multiprocessing can interact badly with TensorFlow, causing nondeterministic deadlocks. For high performance data pipelines tf.data is recommended.\n",
            "1562/1563 [============================>.] - ETA: 0s - loss: 0.9621 - accuracy: 0.6740WARNING:tensorflow:multiprocessing can interact badly with TensorFlow, causing nondeterministic deadlocks. For high performance data pipelines tf.data is recommended.\n",
            "1563/1563 [==============================] - 271s 173ms/step - loss: 0.9624 - accuracy: 0.6739 - val_loss: 0.9278 - val_accuracy: 0.6984\n",
            "\n",
            "used time: 2676.015108346939 \n",
            "\n",
            "Epoch 1/10\n",
            "WARNING:tensorflow:multiprocessing can interact badly with TensorFlow, causing nondeterministic deadlocks. For high performance data pipelines tf.data is recommended.\n",
            "1558/1563 [============================>.] - ETA: 0s - loss: 2.0079 - accuracy: 0.2783WARNING:tensorflow:multiprocessing can interact badly with TensorFlow, causing nondeterministic deadlocks. For high performance data pipelines tf.data is recommended.\n",
            "1563/1563 [==============================] - 25s 16ms/step - loss: 2.0073 - accuracy: 0.2787 - val_loss: 2.0501 - val_accuracy: 0.2804\n",
            "Epoch 2/10\n",
            "WARNING:tensorflow:multiprocessing can interact badly with TensorFlow, causing nondeterministic deadlocks. For high performance data pipelines tf.data is recommended.\n",
            "1562/1563 [============================>.] - ETA: 0s - loss: 1.9207 - accuracy: 0.3192WARNING:tensorflow:multiprocessing can interact badly with TensorFlow, causing nondeterministic deadlocks. For high performance data pipelines tf.data is recommended.\n",
            "1563/1563 [==============================] - 24s 16ms/step - loss: 1.9207 - accuracy: 0.3192 - val_loss: 1.7821 - val_accuracy: 0.3781\n",
            "Epoch 3/10\n",
            "WARNING:tensorflow:multiprocessing can interact badly with TensorFlow, causing nondeterministic deadlocks. For high performance data pipelines tf.data is recommended.\n",
            "1558/1563 [============================>.] - ETA: 0s - loss: 1.8931 - accuracy: 0.3311WARNING:tensorflow:multiprocessing can interact badly with TensorFlow, causing nondeterministic deadlocks. For high performance data pipelines tf.data is recommended.\n",
            "1563/1563 [==============================] - 24s 16ms/step - loss: 1.8930 - accuracy: 0.3312 - val_loss: 1.8657 - val_accuracy: 0.3400\n",
            "Epoch 4/10\n",
            "WARNING:tensorflow:multiprocessing can interact badly with TensorFlow, causing nondeterministic deadlocks. For high performance data pipelines tf.data is recommended.\n",
            "1562/1563 [============================>.] - ETA: 0s - loss: 1.8803 - accuracy: 0.3404WARNING:tensorflow:multiprocessing can interact badly with TensorFlow, causing nondeterministic deadlocks. For high performance data pipelines tf.data is recommended.\n",
            "1563/1563 [==============================] - 25s 16ms/step - loss: 1.8803 - accuracy: 0.3403 - val_loss: 1.8321 - val_accuracy: 0.3548\n",
            "Epoch 5/10\n",
            "WARNING:tensorflow:multiprocessing can interact badly with TensorFlow, causing nondeterministic deadlocks. For high performance data pipelines tf.data is recommended.\n",
            "1559/1563 [============================>.] - ETA: 0s - loss: 1.8711 - accuracy: 0.3401WARNING:tensorflow:multiprocessing can interact badly with TensorFlow, causing nondeterministic deadlocks. For high performance data pipelines tf.data is recommended.\n",
            "1563/1563 [==============================] - 25s 16ms/step - loss: 1.8710 - accuracy: 0.3401 - val_loss: 1.7909 - val_accuracy: 0.3690\n",
            "Epoch 6/10\n",
            "WARNING:tensorflow:multiprocessing can interact badly with TensorFlow, causing nondeterministic deadlocks. For high performance data pipelines tf.data is recommended.\n",
            "1559/1563 [============================>.] - ETA: 0s - loss: 1.8582 - accuracy: 0.3471WARNING:tensorflow:multiprocessing can interact badly with TensorFlow, causing nondeterministic deadlocks. For high performance data pipelines tf.data is recommended.\n",
            "1563/1563 [==============================] - 25s 16ms/step - loss: 1.8585 - accuracy: 0.3469 - val_loss: 1.7798 - val_accuracy: 0.3802\n",
            "Epoch 7/10\n",
            "WARNING:tensorflow:multiprocessing can interact badly with TensorFlow, causing nondeterministic deadlocks. For high performance data pipelines tf.data is recommended.\n",
            "1561/1563 [============================>.] - ETA: 0s - loss: 1.8579 - accuracy: 0.3468WARNING:tensorflow:multiprocessing can interact badly with TensorFlow, causing nondeterministic deadlocks. For high performance data pipelines tf.data is recommended.\n",
            "1563/1563 [==============================] - 24s 16ms/step - loss: 1.8578 - accuracy: 0.3468 - val_loss: 1.7595 - val_accuracy: 0.3855\n",
            "Epoch 8/10\n",
            "WARNING:tensorflow:multiprocessing can interact badly with TensorFlow, causing nondeterministic deadlocks. For high performance data pipelines tf.data is recommended.\n",
            "1558/1563 [============================>.] - ETA: 0s - loss: 1.8516 - accuracy: 0.3525WARNING:tensorflow:multiprocessing can interact badly with TensorFlow, causing nondeterministic deadlocks. For high performance data pipelines tf.data is recommended.\n",
            "1563/1563 [==============================] - 25s 16ms/step - loss: 1.8511 - accuracy: 0.3527 - val_loss: 1.7839 - val_accuracy: 0.3832\n",
            "Epoch 9/10\n",
            "WARNING:tensorflow:multiprocessing can interact badly with TensorFlow, causing nondeterministic deadlocks. For high performance data pipelines tf.data is recommended.\n",
            "1558/1563 [============================>.] - ETA: 0s - loss: 1.8443 - accuracy: 0.3526WARNING:tensorflow:multiprocessing can interact badly with TensorFlow, causing nondeterministic deadlocks. For high performance data pipelines tf.data is recommended.\n",
            "1563/1563 [==============================] - 24s 16ms/step - loss: 1.8442 - accuracy: 0.3526 - val_loss: 1.7541 - val_accuracy: 0.3923\n",
            "Epoch 10/10\n",
            "WARNING:tensorflow:multiprocessing can interact badly with TensorFlow, causing nondeterministic deadlocks. For high performance data pipelines tf.data is recommended.\n",
            "1559/1563 [============================>.] - ETA: 0s - loss: 1.8383 - accuracy: 0.3553WARNING:tensorflow:multiprocessing can interact badly with TensorFlow, causing nondeterministic deadlocks. For high performance data pipelines tf.data is recommended.\n",
            "1563/1563 [==============================] - 24s 16ms/step - loss: 1.8384 - accuracy: 0.3553 - val_loss: 1.7877 - val_accuracy: 0.3795\n",
            "\n",
            "used time: 248.15844249725342 \n",
            "\n",
            "Epoch 1/10\n",
            "WARNING:tensorflow:multiprocessing can interact badly with TensorFlow, causing nondeterministic deadlocks. For high performance data pipelines tf.data is recommended.\n",
            "1561/1563 [============================>.] - ETA: 0s - loss: 2.0411 - accuracy: 0.2569WARNING:tensorflow:multiprocessing can interact badly with TensorFlow, causing nondeterministic deadlocks. For high performance data pipelines tf.data is recommended.\n",
            "1563/1563 [==============================] - 48s 31ms/step - loss: 2.0409 - accuracy: 0.2569 - val_loss: 1.8090 - val_accuracy: 0.3655\n",
            "Epoch 2/10\n",
            "WARNING:tensorflow:multiprocessing can interact badly with TensorFlow, causing nondeterministic deadlocks. For high performance data pipelines tf.data is recommended.\n",
            "1560/1563 [============================>.] - ETA: 0s - loss: 1.9131 - accuracy: 0.3107WARNING:tensorflow:multiprocessing can interact badly with TensorFlow, causing nondeterministic deadlocks. For high performance data pipelines tf.data is recommended.\n",
            "1563/1563 [==============================] - 49s 31ms/step - loss: 1.9132 - accuracy: 0.3106 - val_loss: 1.7729 - val_accuracy: 0.3740\n",
            "Epoch 3/10\n",
            "WARNING:tensorflow:multiprocessing can interact badly with TensorFlow, causing nondeterministic deadlocks. For high performance data pipelines tf.data is recommended.\n",
            "1562/1563 [============================>.] - ETA: 0s - loss: 1.8744 - accuracy: 0.3228WARNING:tensorflow:multiprocessing can interact badly with TensorFlow, causing nondeterministic deadlocks. For high performance data pipelines tf.data is recommended.\n",
            "1563/1563 [==============================] - 49s 31ms/step - loss: 1.8744 - accuracy: 0.3229 - val_loss: 1.7093 - val_accuracy: 0.4036\n",
            "Epoch 4/10\n",
            "WARNING:tensorflow:multiprocessing can interact badly with TensorFlow, causing nondeterministic deadlocks. For high performance data pipelines tf.data is recommended.\n",
            "1563/1563 [==============================] - ETA: 0s - loss: 1.8467 - accuracy: 0.3355WARNING:tensorflow:multiprocessing can interact badly with TensorFlow, causing nondeterministic deadlocks. For high performance data pipelines tf.data is recommended.\n",
            "1563/1563 [==============================] - 48s 31ms/step - loss: 1.8467 - accuracy: 0.3355 - val_loss: 1.6867 - val_accuracy: 0.4110\n",
            "Epoch 5/10\n",
            "WARNING:tensorflow:multiprocessing can interact badly with TensorFlow, causing nondeterministic deadlocks. For high performance data pipelines tf.data is recommended.\n",
            "1561/1563 [============================>.] - ETA: 0s - loss: 1.8349 - accuracy: 0.3435WARNING:tensorflow:multiprocessing can interact badly with TensorFlow, causing nondeterministic deadlocks. For high performance data pipelines tf.data is recommended.\n",
            "1563/1563 [==============================] - 49s 31ms/step - loss: 1.8348 - accuracy: 0.3435 - val_loss: 1.6553 - val_accuracy: 0.4269\n",
            "Epoch 6/10\n",
            "WARNING:tensorflow:multiprocessing can interact badly with TensorFlow, causing nondeterministic deadlocks. For high performance data pipelines tf.data is recommended.\n",
            "1562/1563 [============================>.] - ETA: 0s - loss: 1.8236 - accuracy: 0.3476WARNING:tensorflow:multiprocessing can interact badly with TensorFlow, causing nondeterministic deadlocks. For high performance data pipelines tf.data is recommended.\n",
            "1563/1563 [==============================] - 49s 31ms/step - loss: 1.8236 - accuracy: 0.3475 - val_loss: 1.6444 - val_accuracy: 0.4310\n",
            "Epoch 7/10\n",
            "WARNING:tensorflow:multiprocessing can interact badly with TensorFlow, causing nondeterministic deadlocks. For high performance data pipelines tf.data is recommended.\n",
            "1561/1563 [============================>.] - ETA: 0s - loss: 1.8104 - accuracy: 0.3531WARNING:tensorflow:multiprocessing can interact badly with TensorFlow, causing nondeterministic deadlocks. For high performance data pipelines tf.data is recommended.\n",
            "1563/1563 [==============================] - 50s 32ms/step - loss: 1.8104 - accuracy: 0.3531 - val_loss: 1.6194 - val_accuracy: 0.4334\n",
            "Epoch 8/10\n",
            "WARNING:tensorflow:multiprocessing can interact badly with TensorFlow, causing nondeterministic deadlocks. For high performance data pipelines tf.data is recommended.\n",
            "1561/1563 [============================>.] - ETA: 0s - loss: 1.7965 - accuracy: 0.3611WARNING:tensorflow:multiprocessing can interact badly with TensorFlow, causing nondeterministic deadlocks. For high performance data pipelines tf.data is recommended.\n",
            "1563/1563 [==============================] - 49s 32ms/step - loss: 1.7965 - accuracy: 0.3611 - val_loss: 1.6046 - val_accuracy: 0.4387\n",
            "Epoch 9/10\n",
            "WARNING:tensorflow:multiprocessing can interact badly with TensorFlow, causing nondeterministic deadlocks. For high performance data pipelines tf.data is recommended.\n",
            "1562/1563 [============================>.] - ETA: 0s - loss: 1.7931 - accuracy: 0.3640WARNING:tensorflow:multiprocessing can interact badly with TensorFlow, causing nondeterministic deadlocks. For high performance data pipelines tf.data is recommended.\n",
            "1563/1563 [==============================] - 49s 31ms/step - loss: 1.7931 - accuracy: 0.3640 - val_loss: 1.6196 - val_accuracy: 0.4386\n",
            "Epoch 10/10\n",
            "WARNING:tensorflow:multiprocessing can interact badly with TensorFlow, causing nondeterministic deadlocks. For high performance data pipelines tf.data is recommended.\n",
            "1561/1563 [============================>.] - ETA: 0s - loss: 1.7827 - accuracy: 0.3654WARNING:tensorflow:multiprocessing can interact badly with TensorFlow, causing nondeterministic deadlocks. For high performance data pipelines tf.data is recommended.\n",
            "1563/1563 [==============================] - 49s 32ms/step - loss: 1.7825 - accuracy: 0.3656 - val_loss: 1.5715 - val_accuracy: 0.4518\n",
            "\n",
            "used time: 492.12768936157227 \n",
            "\n",
            "Epoch 1/10\n",
            "WARNING:tensorflow:multiprocessing can interact badly with TensorFlow, causing nondeterministic deadlocks. For high performance data pipelines tf.data is recommended.\n",
            "1563/1563 [==============================] - ETA: 0s - loss: 2.1033 - accuracy: 0.2201WARNING:tensorflow:multiprocessing can interact badly with TensorFlow, causing nondeterministic deadlocks. For high performance data pipelines tf.data is recommended.\n",
            "1563/1563 [==============================] - 57s 37ms/step - loss: 2.1033 - accuracy: 0.2201 - val_loss: 1.8560 - val_accuracy: 0.3397\n",
            "Epoch 2/10\n",
            "WARNING:tensorflow:multiprocessing can interact badly with TensorFlow, causing nondeterministic deadlocks. For high performance data pipelines tf.data is recommended.\n",
            "1562/1563 [============================>.] - ETA: 0s - loss: 1.9727 - accuracy: 0.2783WARNING:tensorflow:multiprocessing can interact badly with TensorFlow, causing nondeterministic deadlocks. For high performance data pipelines tf.data is recommended.\n",
            "1563/1563 [==============================] - 57s 37ms/step - loss: 1.9725 - accuracy: 0.2784 - val_loss: 1.8460 - val_accuracy: 0.3385\n",
            "Epoch 3/10\n",
            "WARNING:tensorflow:multiprocessing can interact badly with TensorFlow, causing nondeterministic deadlocks. For high performance data pipelines tf.data is recommended.\n",
            "1561/1563 [============================>.] - ETA: 0s - loss: 1.9350 - accuracy: 0.2979WARNING:tensorflow:multiprocessing can interact badly with TensorFlow, causing nondeterministic deadlocks. For high performance data pipelines tf.data is recommended.\n",
            "1563/1563 [==============================] - 58s 37ms/step - loss: 1.9350 - accuracy: 0.2980 - val_loss: 1.8149 - val_accuracy: 0.3516\n",
            "Epoch 4/10\n",
            "WARNING:tensorflow:multiprocessing can interact badly with TensorFlow, causing nondeterministic deadlocks. For high performance data pipelines tf.data is recommended.\n",
            "1562/1563 [============================>.] - ETA: 0s - loss: 1.9094 - accuracy: 0.3124WARNING:tensorflow:multiprocessing can interact badly with TensorFlow, causing nondeterministic deadlocks. For high performance data pipelines tf.data is recommended.\n",
            "1563/1563 [==============================] - 58s 37ms/step - loss: 1.9095 - accuracy: 0.3124 - val_loss: 1.7178 - val_accuracy: 0.4048\n",
            "Epoch 5/10\n",
            "WARNING:tensorflow:multiprocessing can interact badly with TensorFlow, causing nondeterministic deadlocks. For high performance data pipelines tf.data is recommended.\n",
            "1562/1563 [============================>.] - ETA: 0s - loss: 1.8964 - accuracy: 0.3145WARNING:tensorflow:multiprocessing can interact badly with TensorFlow, causing nondeterministic deadlocks. For high performance data pipelines tf.data is recommended.\n",
            "1563/1563 [==============================] - 57s 37ms/step - loss: 1.8964 - accuracy: 0.3144 - val_loss: 1.7161 - val_accuracy: 0.4017\n",
            "Epoch 6/10\n",
            "WARNING:tensorflow:multiprocessing can interact badly with TensorFlow, causing nondeterministic deadlocks. For high performance data pipelines tf.data is recommended.\n",
            "1562/1563 [============================>.] - ETA: 0s - loss: 1.8800 - accuracy: 0.3233WARNING:tensorflow:multiprocessing can interact badly with TensorFlow, causing nondeterministic deadlocks. For high performance data pipelines tf.data is recommended.\n",
            "1563/1563 [==============================] - 58s 37ms/step - loss: 1.8800 - accuracy: 0.3233 - val_loss: 1.7162 - val_accuracy: 0.3974\n",
            "Epoch 7/10\n",
            "WARNING:tensorflow:multiprocessing can interact badly with TensorFlow, causing nondeterministic deadlocks. For high performance data pipelines tf.data is recommended.\n",
            "1563/1563 [==============================] - ETA: 0s - loss: 1.8668 - accuracy: 0.3286WARNING:tensorflow:multiprocessing can interact badly with TensorFlow, causing nondeterministic deadlocks. For high performance data pipelines tf.data is recommended.\n",
            "1563/1563 [==============================] - 59s 37ms/step - loss: 1.8668 - accuracy: 0.3286 - val_loss: 1.6731 - val_accuracy: 0.4266\n",
            "Epoch 8/10\n",
            "WARNING:tensorflow:multiprocessing can interact badly with TensorFlow, causing nondeterministic deadlocks. For high performance data pipelines tf.data is recommended.\n",
            "1561/1563 [============================>.] - ETA: 0s - loss: 1.8583 - accuracy: 0.3316WARNING:tensorflow:multiprocessing can interact badly with TensorFlow, causing nondeterministic deadlocks. For high performance data pipelines tf.data is recommended.\n",
            "1563/1563 [==============================] - 59s 38ms/step - loss: 1.8584 - accuracy: 0.3315 - val_loss: 1.6820 - val_accuracy: 0.4225\n",
            "Epoch 9/10\n",
            "WARNING:tensorflow:multiprocessing can interact badly with TensorFlow, causing nondeterministic deadlocks. For high performance data pipelines tf.data is recommended.\n",
            "1562/1563 [============================>.] - ETA: 0s - loss: 1.8447 - accuracy: 0.3374WARNING:tensorflow:multiprocessing can interact badly with TensorFlow, causing nondeterministic deadlocks. For high performance data pipelines tf.data is recommended.\n",
            "1563/1563 [==============================] - 58s 37ms/step - loss: 1.8447 - accuracy: 0.3374 - val_loss: 1.6372 - val_accuracy: 0.4254\n",
            "Epoch 10/10\n",
            "WARNING:tensorflow:multiprocessing can interact badly with TensorFlow, causing nondeterministic deadlocks. For high performance data pipelines tf.data is recommended.\n",
            "1562/1563 [============================>.] - ETA: 0s - loss: 1.8346 - accuracy: 0.3379WARNING:tensorflow:multiprocessing can interact badly with TensorFlow, causing nondeterministic deadlocks. For high performance data pipelines tf.data is recommended.\n",
            "1563/1563 [==============================] - 58s 37ms/step - loss: 1.8347 - accuracy: 0.3378 - val_loss: 1.6389 - val_accuracy: 0.4314\n",
            "\n",
            "used time: 582.6555709838867 \n",
            "\n",
            "Epoch 1/10\n",
            "WARNING:tensorflow:multiprocessing can interact badly with TensorFlow, causing nondeterministic deadlocks. For high performance data pipelines tf.data is recommended.\n",
            "1563/1563 [==============================] - ETA: 0s - loss: 2.1429 - accuracy: 0.1965WARNING:tensorflow:multiprocessing can interact badly with TensorFlow, causing nondeterministic deadlocks. For high performance data pipelines tf.data is recommended.\n",
            "1563/1563 [==============================] - 65s 42ms/step - loss: 2.1429 - accuracy: 0.1965 - val_loss: 1.9359 - val_accuracy: 0.3044\n",
            "Epoch 2/10\n",
            "WARNING:tensorflow:multiprocessing can interact badly with TensorFlow, causing nondeterministic deadlocks. For high performance data pipelines tf.data is recommended.\n",
            "1561/1563 [============================>.] - ETA: 0s - loss: 2.0034 - accuracy: 0.2567WARNING:tensorflow:multiprocessing can interact badly with TensorFlow, causing nondeterministic deadlocks. For high performance data pipelines tf.data is recommended.\n",
            "1563/1563 [==============================] - 64s 41ms/step - loss: 2.0034 - accuracy: 0.2568 - val_loss: 1.8769 - val_accuracy: 0.3320\n",
            "Epoch 3/10\n",
            "WARNING:tensorflow:multiprocessing can interact badly with TensorFlow, causing nondeterministic deadlocks. For high performance data pipelines tf.data is recommended.\n",
            "1562/1563 [============================>.] - ETA: 0s - loss: 1.9658 - accuracy: 0.2796WARNING:tensorflow:multiprocessing can interact badly with TensorFlow, causing nondeterministic deadlocks. For high performance data pipelines tf.data is recommended.\n",
            "1563/1563 [==============================] - 67s 43ms/step - loss: 1.9659 - accuracy: 0.2796 - val_loss: 1.8345 - val_accuracy: 0.3600\n",
            "Epoch 4/10\n",
            "WARNING:tensorflow:multiprocessing can interact badly with TensorFlow, causing nondeterministic deadlocks. For high performance data pipelines tf.data is recommended.\n",
            "1562/1563 [============================>.] - ETA: 0s - loss: 1.9306 - accuracy: 0.2937WARNING:tensorflow:multiprocessing can interact badly with TensorFlow, causing nondeterministic deadlocks. For high performance data pipelines tf.data is recommended.\n",
            "1563/1563 [==============================] - 66s 42ms/step - loss: 1.9306 - accuracy: 0.2937 - val_loss: 1.8015 - val_accuracy: 0.3640\n",
            "Epoch 5/10\n",
            "WARNING:tensorflow:multiprocessing can interact badly with TensorFlow, causing nondeterministic deadlocks. For high performance data pipelines tf.data is recommended.\n",
            "1561/1563 [============================>.] - ETA: 0s - loss: 1.9140 - accuracy: 0.3007WARNING:tensorflow:multiprocessing can interact badly with TensorFlow, causing nondeterministic deadlocks. For high performance data pipelines tf.data is recommended.\n",
            "1563/1563 [==============================] - 66s 42ms/step - loss: 1.9140 - accuracy: 0.3007 - val_loss: 1.8004 - val_accuracy: 0.3799\n",
            "Epoch 6/10\n",
            "WARNING:tensorflow:multiprocessing can interact badly with TensorFlow, causing nondeterministic deadlocks. For high performance data pipelines tf.data is recommended.\n",
            "1562/1563 [============================>.] - ETA: 0s - loss: 1.8988 - accuracy: 0.3109WARNING:tensorflow:multiprocessing can interact badly with TensorFlow, causing nondeterministic deadlocks. For high performance data pipelines tf.data is recommended.\n",
            "1563/1563 [==============================] - 66s 42ms/step - loss: 1.8987 - accuracy: 0.3109 - val_loss: 1.8085 - val_accuracy: 0.3664\n",
            "Epoch 7/10\n",
            "WARNING:tensorflow:multiprocessing can interact badly with TensorFlow, causing nondeterministic deadlocks. For high performance data pipelines tf.data is recommended.\n",
            "1561/1563 [============================>.] - ETA: 0s - loss: 1.8851 - accuracy: 0.3156WARNING:tensorflow:multiprocessing can interact badly with TensorFlow, causing nondeterministic deadlocks. For high performance data pipelines tf.data is recommended.\n",
            "1563/1563 [==============================] - 66s 42ms/step - loss: 1.8850 - accuracy: 0.3157 - val_loss: 1.7985 - val_accuracy: 0.3871\n",
            "Epoch 8/10\n",
            "WARNING:tensorflow:multiprocessing can interact badly with TensorFlow, causing nondeterministic deadlocks. For high performance data pipelines tf.data is recommended.\n",
            "1563/1563 [==============================] - ETA: 0s - loss: 1.8697 - accuracy: 0.3208WARNING:tensorflow:multiprocessing can interact badly with TensorFlow, causing nondeterministic deadlocks. For high performance data pipelines tf.data is recommended.\n",
            "1563/1563 [==============================] - 66s 42ms/step - loss: 1.8697 - accuracy: 0.3208 - val_loss: 1.8209 - val_accuracy: 0.3649\n",
            "Epoch 9/10\n",
            "WARNING:tensorflow:multiprocessing can interact badly with TensorFlow, causing nondeterministic deadlocks. For high performance data pipelines tf.data is recommended.\n",
            "1562/1563 [============================>.] - ETA: 0s - loss: 1.8716 - accuracy: 0.3226WARNING:tensorflow:multiprocessing can interact badly with TensorFlow, causing nondeterministic deadlocks. For high performance data pipelines tf.data is recommended.\n",
            "1563/1563 [==============================] - 66s 42ms/step - loss: 1.8714 - accuracy: 0.3227 - val_loss: 1.8068 - val_accuracy: 0.3856\n",
            "Epoch 10/10\n",
            "WARNING:tensorflow:multiprocessing can interact badly with TensorFlow, causing nondeterministic deadlocks. For high performance data pipelines tf.data is recommended.\n",
            "1562/1563 [============================>.] - ETA: 0s - loss: 1.8581 - accuracy: 0.3255WARNING:tensorflow:multiprocessing can interact badly with TensorFlow, causing nondeterministic deadlocks. For high performance data pipelines tf.data is recommended.\n",
            "1563/1563 [==============================] - 66s 42ms/step - loss: 1.8579 - accuracy: 0.3255 - val_loss: 1.8094 - val_accuracy: 0.3951\n",
            "\n",
            "used time: 661.066032409668 \n",
            "\n",
            "Epoch 1/10\n",
            "WARNING:tensorflow:multiprocessing can interact badly with TensorFlow, causing nondeterministic deadlocks. For high performance data pipelines tf.data is recommended.\n",
            "1562/1563 [============================>.] - ETA: 0s - loss: 2.2083 - accuracy: 0.1584WARNING:tensorflow:multiprocessing can interact badly with TensorFlow, causing nondeterministic deadlocks. For high performance data pipelines tf.data is recommended.\n",
            "1563/1563 [==============================] - 74s 47ms/step - loss: 2.2082 - accuracy: 0.1584 - val_loss: 2.0238 - val_accuracy: 0.2543\n",
            "Epoch 2/10\n",
            "WARNING:tensorflow:multiprocessing can interact badly with TensorFlow, causing nondeterministic deadlocks. For high performance data pipelines tf.data is recommended.\n",
            "1562/1563 [============================>.] - ETA: 0s - loss: 2.0494 - accuracy: 0.2232WARNING:tensorflow:multiprocessing can interact badly with TensorFlow, causing nondeterministic deadlocks. For high performance data pipelines tf.data is recommended.\n",
            "1563/1563 [==============================] - 74s 47ms/step - loss: 2.0495 - accuracy: 0.2233 - val_loss: 1.9342 - val_accuracy: 0.2917\n",
            "Epoch 3/10\n",
            "WARNING:tensorflow:multiprocessing can interact badly with TensorFlow, causing nondeterministic deadlocks. For high performance data pipelines tf.data is recommended.\n",
            "1563/1563 [==============================] - ETA: 0s - loss: 1.9989 - accuracy: 0.2567WARNING:tensorflow:multiprocessing can interact badly with TensorFlow, causing nondeterministic deadlocks. For high performance data pipelines tf.data is recommended.\n",
            "1563/1563 [==============================] - 74s 47ms/step - loss: 1.9989 - accuracy: 0.2567 - val_loss: 1.8902 - val_accuracy: 0.3348\n",
            "Epoch 4/10\n",
            "WARNING:tensorflow:multiprocessing can interact badly with TensorFlow, causing nondeterministic deadlocks. For high performance data pipelines tf.data is recommended.\n",
            "1562/1563 [============================>.] - ETA: 0s - loss: 1.9684 - accuracy: 0.2719WARNING:tensorflow:multiprocessing can interact badly with TensorFlow, causing nondeterministic deadlocks. For high performance data pipelines tf.data is recommended.\n",
            "1563/1563 [==============================] - 74s 47ms/step - loss: 1.9686 - accuracy: 0.2718 - val_loss: 1.8631 - val_accuracy: 0.3540\n",
            "Epoch 5/10\n",
            "WARNING:tensorflow:multiprocessing can interact badly with TensorFlow, causing nondeterministic deadlocks. For high performance data pipelines tf.data is recommended.\n",
            "1563/1563 [==============================] - ETA: 0s - loss: 1.9482 - accuracy: 0.2830WARNING:tensorflow:multiprocessing can interact badly with TensorFlow, causing nondeterministic deadlocks. For high performance data pipelines tf.data is recommended.\n",
            "1563/1563 [==============================] - 74s 47ms/step - loss: 1.9482 - accuracy: 0.2830 - val_loss: 1.8932 - val_accuracy: 0.3548\n",
            "Epoch 6/10\n",
            "WARNING:tensorflow:multiprocessing can interact badly with TensorFlow, causing nondeterministic deadlocks. For high performance data pipelines tf.data is recommended.\n",
            "1562/1563 [============================>.] - ETA: 0s - loss: 1.9307 - accuracy: 0.2898WARNING:tensorflow:multiprocessing can interact badly with TensorFlow, causing nondeterministic deadlocks. For high performance data pipelines tf.data is recommended.\n",
            "1563/1563 [==============================] - 75s 48ms/step - loss: 1.9306 - accuracy: 0.2899 - val_loss: 1.8681 - val_accuracy: 0.3511\n",
            "Epoch 7/10\n",
            "WARNING:tensorflow:multiprocessing can interact badly with TensorFlow, causing nondeterministic deadlocks. For high performance data pipelines tf.data is recommended.\n",
            "1563/1563 [==============================] - ETA: 0s - loss: 1.9207 - accuracy: 0.2969WARNING:tensorflow:multiprocessing can interact badly with TensorFlow, causing nondeterministic deadlocks. For high performance data pipelines tf.data is recommended.\n",
            "1563/1563 [==============================] - 76s 49ms/step - loss: 1.9207 - accuracy: 0.2969 - val_loss: 1.8828 - val_accuracy: 0.3459\n",
            "Epoch 8/10\n",
            "WARNING:tensorflow:multiprocessing can interact badly with TensorFlow, causing nondeterministic deadlocks. For high performance data pipelines tf.data is recommended.\n",
            "1562/1563 [============================>.] - ETA: 0s - loss: 1.9116 - accuracy: 0.3001WARNING:tensorflow:multiprocessing can interact badly with TensorFlow, causing nondeterministic deadlocks. For high performance data pipelines tf.data is recommended.\n",
            "1563/1563 [==============================] - 75s 48ms/step - loss: 1.9117 - accuracy: 0.3000 - val_loss: 1.9069 - val_accuracy: 0.3367\n",
            "Epoch 9/10\n",
            "WARNING:tensorflow:multiprocessing can interact badly with TensorFlow, causing nondeterministic deadlocks. For high performance data pipelines tf.data is recommended.\n",
            "1562/1563 [============================>.] - ETA: 0s - loss: 1.9030 - accuracy: 0.3031WARNING:tensorflow:multiprocessing can interact badly with TensorFlow, causing nondeterministic deadlocks. For high performance data pipelines tf.data is recommended.\n",
            "1563/1563 [==============================] - 75s 48ms/step - loss: 1.9030 - accuracy: 0.3030 - val_loss: 1.9106 - val_accuracy: 0.3449\n",
            "Epoch 10/10\n",
            "WARNING:tensorflow:multiprocessing can interact badly with TensorFlow, causing nondeterministic deadlocks. For high performance data pipelines tf.data is recommended.\n",
            "1562/1563 [============================>.] - ETA: 0s - loss: 1.8957 - accuracy: 0.3077WARNING:tensorflow:multiprocessing can interact badly with TensorFlow, causing nondeterministic deadlocks. For high performance data pipelines tf.data is recommended.\n",
            "1563/1563 [==============================] - 74s 47ms/step - loss: 1.8956 - accuracy: 0.3078 - val_loss: 1.9124 - val_accuracy: 0.3291\n",
            "\n",
            "used time: 748.2714567184448 \n",
            "\n"
          ],
          "name": "stdout"
        }
      ]
    },
    {
      "cell_type": "code",
      "metadata": {
        "id": "byzNqseH3hqb",
        "outputId": "ff6ae01d-d106-4b5e-9633-ed19ef757c7c",
        "colab": {
          "base_uri": "https://localhost:8080/",
          "height": 35
        }
      },
      "source": [
        "# Save model and weights\n",
        "import os\n",
        "if not os.path.isdir(save_dir):\n",
        "  os.makedirs(save_dir)\n",
        "model_path = os.path.join(save_dir, model_name_a)\n",
        "model.save(model_path)\n",
        "print('Saved trained model at %s ' % model_path)\n"
      ],
      "execution_count": 15,
      "outputs": [
        {
          "output_type": "stream",
          "text": [
            "Saved trained model at /content/saved_models/keras_cifar10_trained_modela.h5 \n"
          ],
          "name": "stdout"
        }
      ]
    },
    {
      "cell_type": "code",
      "metadata": {
        "id": "qD_ViLnn345b",
        "outputId": "60c04ddd-029d-49de-f6f9-fdcc7da7e67b",
        "colab": {
          "base_uri": "https://localhost:8080/",
          "height": 279
        }
      },
      "source": [
        "import matplotlib.pyplot as plt\n",
        "epoch=range(1,(len(history_model.history['val_accuracy'])+1))\n",
        "plt.plot(epoch,history_model.history['val_accuracy'])\n",
        "plt.plot(epoch,history_model_sdnn_0.history['val_accuracy'])\n",
        "plt.plot(epoch,history_model_sdnn_1.history['val_accuracy'])\n",
        "plt.plot(epoch,history_model_sdnn_2.history['val_accuracy'])\n",
        "plt.plot(epoch,history_model_sdnn_3.history['val_accuracy'])\n",
        "plt.plot(epoch,history_model_sdnn_4.history['val_accuracy'])\n",
        "plt.ylabel('validation-accuracy')\n",
        "plt.xlabel('epoch')\n",
        "plt.legend(['cnn','ann0','ann1','ann2','ann3','ann4'], loc='upper left')\n",
        "plt.show()"
      ],
      "execution_count": 18,
      "outputs": [
        {
          "output_type": "display_data",
          "data": {
            "image/png": "[encoded data removed]",
            "text/plain": [
              "<Figure size 432x288 with 1 Axes>"
            ]
          },
          "metadata": {
            "tags": [],
            "needs_background": "light"
          }
        }
      ]
    },
    {
      "cell_type": "code",
      "metadata": {
        "id": "kxTLDD7uh9Dy",
        "outputId": "f1c8a9a1-7a24-44ed-ebf8-a0604f47d5ab",
        "colab": {
          "base_uri": "https://localhost:8080/",
          "height": 279
        }
      },
      "source": [
        "import matplotlib.pyplot as plt\n",
        "epoch=range(1,(len(history_model.history['accuracy'])+1))\n",
        "plt.plot(epoch,history_model.history['accuracy'])\n",
        "plt.plot(epoch,history_model_sdnn_0.history['accuracy'])\n",
        "plt.plot(epoch,history_model_sdnn_1.history['accuracy'])\n",
        "plt.plot(epoch,history_model_sdnn_2.history['accuracy'])\n",
        "plt.plot(epoch,history_model_sdnn_3.history['accuracy'])\n",
        "plt.plot(epoch,history_model_sdnn_4.history['accuracy'])\n",
        "plt.ylabel('accuracy')\n",
        "plt.xlabel('epoch')\n",
        "plt.legend(['cnn','ann0','ann1','ann2','ann3','ann4'], loc='upper left')\n",
        "plt.show()"
      ],
      "execution_count": 19,
      "outputs": [
        {
          "output_type": "display_data",
          "data": {
            "image/png": "[encoded data removed]",
            "text/plain": [
              "<Figure size 432x288 with 1 Axes>"
            ]
          },
          "metadata": {
            "tags": [],
            "needs_background": "light"
          }
        }
      ]
    },
    {
      "cell_type": "code",
      "metadata": {
        "id": "AxPN7dAMrzdW",
        "outputId": "be3fda89-756b-48d8-cd88-5ebb74e6293b",
        "colab": {
          "base_uri": "https://localhost:8080/",
          "height": 377
        }
      },
      "source": [
        "history_model.history['accuracy'],history_model.history['val_accuracy']\n",
        "history_model_sdnn_0.history['accuracy'], history_model_sdnn_0.history['val_accuracy']\n",
        "history_model_sdnn_1.history['accuracy'], history_model_sdnn_1.history['val_accuracy']\n",
        "history_model_sdnn_2.history['accuracy'], history_model_sdnn_2.history['val_accuracy']\n",
        "history_model_sdnn_3.history['accuracy'], history_model_sdnn_3.history['val_accuracy']\n",
        "history_model_sdnn_4.history['accuracy'], history_model_sdnn_4.history['val_accuracy']"
      ],
      "execution_count": 17,
      "outputs": [
        {
          "output_type": "execute_result",
          "data": {
            "text/plain": [
              "([0.1584399938583374,\n",
              "  0.2232999950647354,\n",
              "  0.25672000646591187,\n",
              "  0.2718000113964081,\n",
              "  0.28299999237060547,\n",
              "  0.2898600101470947,\n",
              "  0.2969200015068054,\n",
              "  0.30000001192092896,\n",
              "  0.30302000045776367,\n",
              "  0.30776000022888184],\n",
              " [0.25429999828338623,\n",
              "  0.29170000553131104,\n",
              "  0.33480000495910645,\n",
              "  0.3540000021457672,\n",
              "  0.3547999858856201,\n",
              "  0.35109999775886536,\n",
              "  0.3458999991416931,\n",
              "  0.3366999924182892,\n",
              "  0.3449000120162964,\n",
              "  0.32910001277923584])"
            ]
          },
          "metadata": {
            "tags": []
          },
          "execution_count": 17
        }
      ]
    },
    {
      "cell_type": "markdown",
      "metadata": {
        "id": "8Iviv5BFttDG"
      },
      "source": [
        "Explain:\n",
        "The convolutional network obtained the best results. The convolutional network is much better because it is sparse\n",
        "with shared weights. This simplifies the optimization, while requiring less data to generalize well. As we increase\n",
        "the number of dense hidden layers, the optimization is more difficult and unfortunately, the optimizer (rmsprop)\n",
        "fails to find the best weights. Overfitting is not a problem since similar results are\n",
        "observed for training accuracy and testing accuracy"
      ]
    },
    {
      "cell_type": "markdown",
      "metadata": {
        "id": "z0ylx7P-602q"
      },
      "source": [
        "(b)"
      ]
    },
    {
      "cell_type": "code",
      "metadata": {
        "id": "oxu8G9j56kgH",
        "outputId": "fb2781f5-1f86-4b1a-bec1-0e307594dffd",
        "colab": {
          "base_uri": "https://localhost:8080/",
          "height": 829
        }
      },
      "source": [
        "# cnn-sigmoid\n",
        "model_sig = Sequential()\n",
        "model_sig.add(Conv2D(32, (3, 3), padding='same',\n",
        "                 input_shape=x_train.shape[1:]))\n",
        "model_sig.add(Activation('sigmoid'))\n",
        "model_sig.add(Conv2D(32, (3, 3)))\n",
        "model_sig.add(Activation('sigmoid'))\n",
        "model_sig.add(MaxPooling2D(pool_size=(2, 2)))\n",
        "model_sig.add(Dropout(0.25))\n",
        "\n",
        "model_sig.add(Conv2D(64, (3, 3), padding='same'))\n",
        "model_sig.add(Activation('sigmoid'))\n",
        "model_sig.add(Conv2D(64, (3, 3)))\n",
        "model_sig.add(Activation('sigmoid'))\n",
        "model_sig.add(MaxPooling2D(pool_size=(2, 2)))\n",
        "model_sig.add(Dropout(0.25))\n",
        "\n",
        "model_sig.add(Flatten())\n",
        "model_sig.add(Dense(512))\n",
        "model_sig.add(Activation('sigmoid'))\n",
        "model_sig.add(Dropout(0.5))\n",
        "model_sig.add(Dense(num_classes))\n",
        "model_sig.add(Activation('softmax'))\n",
        "model_sig.compile(loss='categorical_crossentropy',\n",
        "              optimizer=opt,\n",
        "              metrics=['accuracy'])\n",
        "import time\n",
        "if not data_augmentation:\n",
        "    print('Not using data augmentation.')\n",
        "    model_sig.fit(x_train, y_train,\n",
        "              batch_size=batch_size,\n",
        "              epochs=epochs,\n",
        "              validation_data=(x_test, y_test),\n",
        "              shuffle=True)\n",
        "else:\n",
        "    print('Using real-time data augmentation.')\n",
        "    # This will do preprocessing and realtime data augmentation:\n",
        "    datagen = ImageDataGenerator(\n",
        "        featurewise_center=False,  # set input mean to 0 over the dataset\n",
        "        samplewise_center=False,  # set each sample mean to 0\n",
        "        featurewise_std_normalization=False,  # divide inputs by std of the dataset\n",
        "        samplewise_std_normalization=False,  # divide each input by its std\n",
        "        zca_whitening=False,  # apply ZCA whitening\n",
        "        zca_epsilon=1e-06,  # epsilon for ZCA whitening\n",
        "        rotation_range=0,  # randomly rotate images in the range (degrees, 0 to 180)\n",
        "        # randomly shift images horizontally (fraction of total width)\n",
        "        width_shift_range=0.1,\n",
        "        # randomly shift images vertically (fraction of total height)\n",
        "        height_shift_range=0.1,\n",
        "        shear_range=0.,  # set range for random shear\n",
        "        zoom_range=0.,  # set range for random zoom\n",
        "        channel_shift_range=0.,  # set range for random channel shifts\n",
        "        # set mode for filling points outside the input boundaries\n",
        "        fill_mode='nearest',\n",
        "        cval=0.,  # value used for fill_mode = \"constant\"\n",
        "        horizontal_flip=True,  # randomly flip images\n",
        "        vertical_flip=False,  # randomly flip images\n",
        "        # set rescaling factor (applied before any other transformation)\n",
        "        rescale=None,\n",
        "        # set function that will be applied on each input\n",
        "        preprocessing_function=None,\n",
        "        # image data format, either \"channels_first\" or \"channels_last\"\n",
        "        data_format=None,\n",
        "        # fraction of images reserved for validation (strictly between 0 and 1)\n",
        "        validation_split=0.0)\n",
        "\n",
        "    # Compute quantities required for feature-wise normalization\n",
        "    # (std, mean, and principal components if ZCA whitening is applied).\n",
        "    datagen.fit(x_train)\n",
        "\n",
        "    # Fit the model on the batches generated by datagen.flow().\n",
        "    tic=time.time()\n",
        "    history_model_sig=model_sig.fit_generator(datagen.flow(x_train, y_train,\n",
        "                                     batch_size=batch_size),\n",
        "                        epochs=epochs,\n",
        "                        validation_data=(x_test, y_test),\n",
        "                        workers=4,\n",
        "                        use_multiprocessing=True)\n",
        "    toc=time.time()\n",
        "    print('\\nused time:',toc-tic,'\\n')\n"
      ],
      "execution_count": 20,
      "outputs": [
        {
          "output_type": "stream",
          "text": [
            "Using real-time data augmentation.\n",
            "Epoch 1/10\n",
            "WARNING:tensorflow:multiprocessing can interact badly with TensorFlow, causing nondeterministic deadlocks. For high performance data pipelines tf.data is recommended.\n",
            "1562/1563 [============================>.] - ETA: 0s - loss: 2.3321 - accuracy: 0.0985WARNING:tensorflow:multiprocessing can interact badly with TensorFlow, causing nondeterministic deadlocks. For high performance data pipelines tf.data is recommended.\n",
            "1563/1563 [==============================] - 283s 181ms/step - loss: 2.3320 - accuracy: 0.0985 - val_loss: 2.3061 - val_accuracy: 0.1000\n",
            "Epoch 2/10\n",
            "WARNING:tensorflow:multiprocessing can interact badly with TensorFlow, causing nondeterministic deadlocks. For high performance data pipelines tf.data is recommended.\n",
            "1562/1563 [============================>.] - ETA: 0s - loss: 2.3077 - accuracy: 0.0984WARNING:tensorflow:multiprocessing can interact badly with TensorFlow, causing nondeterministic deadlocks. For high performance data pipelines tf.data is recommended.\n",
            "1563/1563 [==============================] - 281s 180ms/step - loss: 2.3077 - accuracy: 0.0984 - val_loss: 2.3038 - val_accuracy: 0.1000\n",
            "Epoch 3/10\n",
            "WARNING:tensorflow:multiprocessing can interact badly with TensorFlow, causing nondeterministic deadlocks. For high performance data pipelines tf.data is recommended.\n",
            "1562/1563 [============================>.] - ETA: 0s - loss: 2.3065 - accuracy: 0.1007WARNING:tensorflow:multiprocessing can interact badly with TensorFlow, causing nondeterministic deadlocks. For high performance data pipelines tf.data is recommended.\n",
            "1563/1563 [==============================] - 283s 181ms/step - loss: 2.3065 - accuracy: 0.1007 - val_loss: 2.3040 - val_accuracy: 0.1000\n",
            "Epoch 4/10\n",
            "WARNING:tensorflow:multiprocessing can interact badly with TensorFlow, causing nondeterministic deadlocks. For high performance data pipelines tf.data is recommended.\n",
            "1562/1563 [============================>.] - ETA: 0s - loss: 2.3058 - accuracy: 0.0979WARNING:tensorflow:multiprocessing can interact badly with TensorFlow, causing nondeterministic deadlocks. For high performance data pipelines tf.data is recommended.\n",
            "1563/1563 [==============================] - 284s 181ms/step - loss: 2.3059 - accuracy: 0.0979 - val_loss: 2.3031 - val_accuracy: 0.1000\n",
            "Epoch 5/10\n",
            "WARNING:tensorflow:multiprocessing can interact badly with TensorFlow, causing nondeterministic deadlocks. For high performance data pipelines tf.data is recommended.\n",
            "1562/1563 [============================>.] - ETA: 0s - loss: 2.3054 - accuracy: 0.0992WARNING:tensorflow:multiprocessing can interact badly with TensorFlow, causing nondeterministic deadlocks. For high performance data pipelines tf.data is recommended.\n",
            "1563/1563 [==============================] - 285s 182ms/step - loss: 2.3053 - accuracy: 0.0992 - val_loss: 2.3034 - val_accuracy: 0.1000\n",
            "Epoch 6/10\n",
            "WARNING:tensorflow:multiprocessing can interact badly with TensorFlow, causing nondeterministic deadlocks. For high performance data pipelines tf.data is recommended.\n",
            "1562/1563 [============================>.] - ETA: 0s - loss: 2.3052 - accuracy: 0.0992WARNING:tensorflow:multiprocessing can interact badly with TensorFlow, causing nondeterministic deadlocks. For high performance data pipelines tf.data is recommended.\n",
            "1563/1563 [==============================] - 293s 188ms/step - loss: 2.3052 - accuracy: 0.0992 - val_loss: 2.3041 - val_accuracy: 0.1000\n",
            "Epoch 7/10\n",
            "WARNING:tensorflow:multiprocessing can interact badly with TensorFlow, causing nondeterministic deadlocks. For high performance data pipelines tf.data is recommended.\n",
            "1562/1563 [============================>.] - ETA: 0s - loss: 2.3050 - accuracy: 0.0992WARNING:tensorflow:multiprocessing can interact badly with TensorFlow, causing nondeterministic deadlocks. For high performance data pipelines tf.data is recommended.\n",
            "1563/1563 [==============================] - 287s 183ms/step - loss: 2.3050 - accuracy: 0.0992 - val_loss: 2.3030 - val_accuracy: 0.1000\n",
            "Epoch 8/10\n",
            "WARNING:tensorflow:multiprocessing can interact badly with TensorFlow, causing nondeterministic deadlocks. For high performance data pipelines tf.data is recommended.\n",
            "1562/1563 [============================>.] - ETA: 0s - loss: 2.2960 - accuracy: 0.1114WARNING:tensorflow:multiprocessing can interact badly with TensorFlow, causing nondeterministic deadlocks. For high performance data pipelines tf.data is recommended.\n",
            "1563/1563 [==============================] - 286s 183ms/step - loss: 2.2960 - accuracy: 0.1114 - val_loss: 2.2062 - val_accuracy: 0.1926\n",
            "Epoch 9/10\n",
            "WARNING:tensorflow:multiprocessing can interact badly with TensorFlow, causing nondeterministic deadlocks. For high performance data pipelines tf.data is recommended.\n",
            "1562/1563 [============================>.] - ETA: 0s - loss: 2.1408 - accuracy: 0.2046WARNING:tensorflow:multiprocessing can interact badly with TensorFlow, causing nondeterministic deadlocks. For high performance data pipelines tf.data is recommended.\n",
            "1563/1563 [==============================] - 293s 187ms/step - loss: 2.1409 - accuracy: 0.2046 - val_loss: 2.0302 - val_accuracy: 0.2600\n",
            "Epoch 10/10\n",
            "WARNING:tensorflow:multiprocessing can interact badly with TensorFlow, causing nondeterministic deadlocks. For high performance data pipelines tf.data is recommended.\n",
            "1562/1563 [============================>.] - ETA: 0s - loss: 2.0621 - accuracy: 0.2407WARNING:tensorflow:multiprocessing can interact badly with TensorFlow, causing nondeterministic deadlocks. For high performance data pipelines tf.data is recommended.\n",
            "1563/1563 [==============================] - 294s 188ms/step - loss: 2.0621 - accuracy: 0.2407 - val_loss: 1.9822 - val_accuracy: 0.2788\n",
            "\n",
            "used time: 2874.7948110103607 \n",
            "\n"
          ],
          "name": "stdout"
        }
      ]
    },
    {
      "cell_type": "code",
      "metadata": {
        "id": "Z_UDwb76HPwS",
        "outputId": "60c4e2d7-31ca-4083-c8c1-260ca029ef9e",
        "colab": {
          "base_uri": "https://localhost:8080/",
          "height": 35
        }
      },
      "source": [
        "# Save model and weights\n",
        "import os\n",
        "if not os.path.isdir(save_dir):\n",
        "    os.makedirs(save_dir)\n",
        "model_path = os.path.join(save_dir, model_name_b)\n",
        "model.save(model_path)\n",
        "print('Saved trained model at %s ' % model_path)"
      ],
      "execution_count": 21,
      "outputs": [
        {
          "output_type": "stream",
          "text": [
            "Saved trained model at /content/saved_models/keras_cifar10_trained_modelb.h5 \n"
          ],
          "name": "stdout"
        }
      ]
    },
    {
      "cell_type": "code",
      "metadata": {
        "id": "vTu1T8W-GCAB",
        "outputId": "0a887c89-79d5-4adc-a9e3-7be50cc5b01b",
        "colab": {
          "base_uri": "https://localhost:8080/",
          "height": 279
        }
      },
      "source": [
        "import matplotlib.pyplot as plt\n",
        "epoch=range(1,(len(history_model.history['val_accuracy'])+1))\n",
        "plt.plot(epoch,history_model.history['val_accuracy'])\n",
        "plt.plot(epoch,history_model_sig.history['val_accuracy'])\n",
        "plt.ylabel('validation accuracy')\n",
        "plt.xlabel('epoch')\n",
        "plt.legend(['cnn-relu', 'cnn-sigmoid'], loc='upper left')\n",
        "plt.show()"
      ],
      "execution_count": 24,
      "outputs": [
        {
          "output_type": "display_data",
          "data": {
            "image/png": "[encoded data removed]",
            "text/plain": [
              "<Figure size 432x288 with 1 Axes>"
            ]
          },
          "metadata": {
            "tags": [],
            "needs_background": "light"
          }
        }
      ]
    },
    {
      "cell_type": "code",
      "metadata": {
        "id": "wcbulq0UxhSY",
        "outputId": "b2376fa9-eea2-4bde-f0a8-fe8436c94f67",
        "colab": {
          "base_uri": "https://localhost:8080/",
          "height": 282
        }
      },
      "source": [
        "import matplotlib.pyplot as plt\n",
        "epoch=range(1,(len(history_model.history['accuracy'])+1))\n",
        "plt.plot(epoch,history_model.history['accuracy'])\n",
        "plt.plot(epoch,history_model_sig.history['accuracy'])\n",
        "plt.ylabel('accuracy')\n",
        "plt.xlabel('epoch')\n",
        "plt.legend(['cnn-relu', 'cnn-sigmoid'], loc='upper left')\n",
        "plt.show()"
      ],
      "execution_count": 25,
      "outputs": [
        {
          "output_type": "display_data",
          "data": {
            "image/png": "[encoded data removed]",
            "text/plain": [
              "<Figure size 432x288 with 1 Axes>"
            ]
          },
          "metadata": {
            "tags": [],
            "needs_background": "light"
          }
        }
      ]
    },
    {
      "cell_type": "markdown",
      "metadata": {
        "id": "EiAG5kDoFRB6"
      },
      "source": [
        "Explain:\n",
        "ReLU gives much better results than sigmoid units. Sigmoid units are more subject to the gradient vanishing\n",
        "problem. The lack of improvement in the first few epochs might be due to the fact that the starting point is in one\n",
        "of the tails of the sigmoid whose gradient is near 0."
      ]
    },
    {
      "cell_type": "markdown",
      "metadata": {
        "id": "R8S1D2FtGVkK"
      },
      "source": [
        "(c)"
      ]
    },
    {
      "cell_type": "code",
      "metadata": {
        "id": "yrSQRHhIH-PV"
      },
      "source": [
        "# yes dropout, yes augment cnn: model"
      ],
      "execution_count": null,
      "outputs": []
    },
    {
      "cell_type": "code",
      "metadata": {
        "id": "ZSKI3b6HHav_"
      },
      "source": [
        "#no dropout, yes augment: model_ndya\n",
        "\n",
        "data_augmentation = True\n",
        "\n",
        "model_ndya = Sequential()\n",
        "model_ndya.add(Conv2D(32, (3, 3), padding='same',\n",
        "                 input_shape=x_train.shape[1:]))\n",
        "model_ndya.add(Activation('relu'))\n",
        "model_ndya.add(Conv2D(32, (3, 3)))\n",
        "model_ndya.add(Activation('relu'))\n",
        "model_ndya.add(MaxPooling2D(pool_size=(2, 2)))\n",
        "\n",
        "model_ndya.add(Conv2D(64, (3, 3), padding='same'))\n",
        "model_ndya.add(Activation('relu'))\n",
        "model_ndya.add(Conv2D(64, (3, 3)))\n",
        "model_ndya.add(Activation('relu'))\n",
        "model_ndya.add(MaxPooling2D(pool_size=(2, 2)))\n",
        "\n",
        "model_ndya.add(Flatten())\n",
        "model_ndya.add(Dense(512))\n",
        "model_ndya.add(Activation('relu'))\n",
        "model_ndya.add(Dense(num_classes))\n",
        "model_ndya.add(Activation('softmax'))\n",
        "\n",
        "model_ndya.compile(loss='categorical_crossentropy',\n",
        "              optimizer=opt,\n",
        "              metrics=['accuracy'])\n",
        "\n",
        "import time\n",
        "if not data_augmentation:\n",
        "    print('Not using data augmentation.')\n",
        "    model_ndya.fit(x_train, y_train,\n",
        "              batch_size=batch_size,\n",
        "              epochs=epochs,\n",
        "              validation_data=(x_test, y_test),\n",
        "              shuffle=True)\n",
        "else:\n",
        "    print('Using real-time data augmentation.')\n",
        "    # This will do preprocessing and realtime data augmentation:\n",
        "    datagen = ImageDataGenerator(\n",
        "        featurewise_center=False,  # set input mean to 0 over the dataset\n",
        "        samplewise_center=False,  # set each sample mean to 0\n",
        "        featurewise_std_normalization=False,  # divide inputs by std of the dataset\n",
        "        samplewise_std_normalization=False,  # divide each input by its std\n",
        "        zca_whitening=False,  # apply ZCA whitening\n",
        "        zca_epsilon=1e-06,  # epsilon for ZCA whitening\n",
        "        rotation_range=0,  # randomly rotate images in the range (degrees, 0 to 180)\n",
        "        # randomly shift images horizontally (fraction of total width)\n",
        "        width_shift_range=0.1,\n",
        "        # randomly shift images vertically (fraction of total height)\n",
        "        height_shift_range=0.1,\n",
        "        shear_range=0.,  # set range for random shear\n",
        "        zoom_range=0.,  # set range for random zoom\n",
        "        channel_shift_range=0.,  # set range for random channel shifts\n",
        "        # set mode for filling points outside the input boundaries\n",
        "        fill_mode='nearest',\n",
        "        cval=0.,  # value used for fill_mode = \"constant\"\n",
        "        horizontal_flip=True,  # randomly flip images\n",
        "        vertical_flip=False,  # randomly flip images\n",
        "        # set rescaling factor (applied before any other transformation)\n",
        "        rescale=None,\n",
        "        # set function that will be applied on each input\n",
        "        preprocessing_function=None,\n",
        "        # image data format, either \"channels_first\" or \"channels_last\"\n",
        "        data_format=None,\n",
        "        # fraction of images reserved for validation (strictly between 0 and 1)\n",
        "        validation_split=0.0)\n",
        "\n",
        "    # Compute quantities required for feature-wise normalization\n",
        "    # (std, mean, and principal components if ZCA whitening is applied).\n",
        "    datagen.fit(x_train)\n",
        "\n",
        "    # Fit the model on the batches generated by datagen.flow().\n",
        "    tic=time.time()\n",
        "    history_model_ndya=model_ndya.fit_generator(datagen.flow(x_train, y_train,\n",
        "                                     batch_size=batch_size),\n",
        "                        epochs=epochs,\n",
        "                        validation_data=(x_test, y_test),\n",
        "                        workers=4,\n",
        "                        use_multiprocessing=True)\n",
        "    toc=time.time()\n",
        "    print('\\nused time:',toc-tic,'\\n')"
      ],
      "execution_count": null,
      "outputs": []
    },
    {
      "cell_type": "code",
      "metadata": {
        "id": "Nt9Ug85AHpVZ"
      },
      "source": [
        "#yes dropout, no augment: model_ndya\n",
        "\n",
        "data_augmentation = False\n",
        "\n",
        "model_ydna = Sequential()\n",
        "model_ydna.add(Conv2D(32, (3, 3), padding='same',\n",
        "                 input_shape=x_train.shape[1:]))\n",
        "model_ydna.add(Activation('relu'))\n",
        "model_ydna.add(Conv2D(32, (3, 3)))\n",
        "model_ydna.add(Activation('relu'))\n",
        "model_ydna.add(MaxPooling2D(pool_size=(2, 2)))\n",
        "model_ydna.add(Dropout(0.25))\n",
        "\n",
        "model_ydna.add(Conv2D(64, (3, 3), padding='same'))\n",
        "model_ydna.add(Activation('relu'))\n",
        "model_ydna.add(Conv2D(64, (3, 3)))\n",
        "model_ydna.add(Activation('relu'))\n",
        "model_ydna.add(MaxPooling2D(pool_size=(2, 2)))\n",
        "model_ydna.add(Dropout(0.25))\n",
        "\n",
        "model_ydna.add(Flatten())\n",
        "model_ydna.add(Dense(512))\n",
        "model_ydna.add(Activation('relu'))\n",
        "model_ydna.add(Dropout(0.5))\n",
        "model_ydna.add(Dense(num_classes))\n",
        "model_ydna.add(Activation('softmax'))\n",
        "\n",
        "model_ydna.compile(loss='categorical_crossentropy',\n",
        "              optimizer=opt,\n",
        "              metrics=['accuracy'])\n",
        "\n",
        "import time\n",
        "if not data_augmentation:\n",
        "    print('Not using data augmentation.')\n",
        "    model_ydna.fit(x_train, y_train,\n",
        "              batch_size=batch_size,\n",
        "              epochs=epochs,\n",
        "              validation_data=(x_test, y_test),\n",
        "              shuffle=True)\n",
        "else:\n",
        "    print('Using real-time data augmentation.')\n",
        "    # This will do preprocessing and realtime data augmentation:\n",
        "    datagen = ImageDataGenerator(\n",
        "        featurewise_center=False,  # set input mean to 0 over the dataset\n",
        "        samplewise_center=False,  # set each sample mean to 0\n",
        "        featurewise_std_normalization=False,  # divide inputs by std of the dataset\n",
        "        samplewise_std_normalization=False,  # divide each input by its std\n",
        "        zca_whitening=False,  # apply ZCA whitening\n",
        "        zca_epsilon=1e-06,  # epsilon for ZCA whitening\n",
        "        rotation_range=0,  # randomly rotate images in the range (degrees, 0 to 180)\n",
        "        # randomly shift images horizontally (fraction of total width)\n",
        "        width_shift_range=0.1,\n",
        "        # randomly shift images vertically (fraction of total height)\n",
        "        height_shift_range=0.1,\n",
        "        shear_range=0.,  # set range for random shear\n",
        "        zoom_range=0.,  # set range for random zoom\n",
        "        channel_shift_range=0.,  # set range for random channel shifts\n",
        "        # set mode for filling points outside the input boundaries\n",
        "        fill_mode='nearest',\n",
        "        cval=0.,  # value used for fill_mode = \"constant\"\n",
        "        horizontal_flip=True,  # randomly flip images\n",
        "        vertical_flip=False,  # randomly flip images\n",
        "        # set rescaling factor (applied before any other transformation)\n",
        "        rescale=None,\n",
        "        # set function that will be applied on each input\n",
        "        preprocessing_function=None,\n",
        "        # image data format, either \"channels_first\" or \"channels_last\"\n",
        "        data_format=None,\n",
        "        # fraction of images reserved for validation (strictly between 0 and 1)\n",
        "        validation_split=0.0)\n",
        "\n",
        "    # Compute quantities required for feature-wise normalization\n",
        "    # (std, mean, and principal components if ZCA whitening is applied).\n",
        "    datagen.fit(x_train)\n",
        "\n",
        "    # Fit the model on the batches generated by datagen.flow().\n",
        "    tic=time.time()\n",
        "    history_model_ydna=model_ydna.fit_generator(datagen.flow(x_train, y_train,\n",
        "                                     batch_size=batch_size),\n",
        "                        epochs=epochs,\n",
        "                        validation_data=(x_test, y_test),\n",
        "                        workers=4,\n",
        "                        use_multiprocessing=True)\n",
        "    toc=time.time()\n",
        "    print('\\nused time:',toc-tic,'\\n')"
      ],
      "execution_count": null,
      "outputs": []
    },
    {
      "cell_type": "code",
      "metadata": {
        "id": "n67zCVKpHpeM"
      },
      "source": [
        "#no dropout, no augment: model_ndna\n",
        "\n",
        "data_augmentation = False\n",
        "\n",
        "model_ndna = Sequential()\n",
        "model_ndna.add(Conv2D(32, (3, 3), padding='same',\n",
        "                 input_shape=x_train.shape[1:]))\n",
        "model_ndna.add(Activation('relu'))\n",
        "model_ndna.add(Conv2D(32, (3, 3)))\n",
        "model_ndna.add(Activation('relu'))\n",
        "model_ndna.add(MaxPooling2D(pool_size=(2, 2)))\n",
        "\n",
        "model_ndna.add(Conv2D(64, (3, 3), padding='same'))\n",
        "model_ndna.add(Activation('relu'))\n",
        "model_ndna.add(Conv2D(64, (3, 3)))\n",
        "model_ndna.add(Activation('relu'))\n",
        "model_ndna.add(MaxPooling2D(pool_size=(2, 2)))\n",
        "\n",
        "model_ndna.add(Flatten())\n",
        "model_ndna.add(Dense(512))\n",
        "model_ndna.add(Activation('relu'))\n",
        "model_ndna.add(Dense(num_classes))\n",
        "model_ndna.add(Activation('softmax'))\n",
        "\n",
        "model_ndna.compile(loss='categorical_crossentropy',\n",
        "              optimizer=opt,\n",
        "              metrics=['accuracy'])\n",
        "\n",
        "import time\n",
        "if not data_augmentation:\n",
        "    print('Not using data augmentation.')\n",
        "    model_ndna.fit(x_train, y_train,\n",
        "              batch_size=batch_size,\n",
        "              epochs=epochs,\n",
        "              validation_data=(x_test, y_test),\n",
        "              shuffle=True)\n",
        "else:\n",
        "    print('Using real-time data augmentation.')\n",
        "    # This will do preprocessing and realtime data augmentation:\n",
        "    datagen = ImageDataGenerator(\n",
        "        featurewise_center=False,  # set input mean to 0 over the dataset\n",
        "        samplewise_center=False,  # set each sample mean to 0\n",
        "        featurewise_std_normalization=False,  # divide inputs by std of the dataset\n",
        "        samplewise_std_normalization=False,  # divide each input by its std\n",
        "        zca_whitening=False,  # apply ZCA whitening\n",
        "        zca_epsilon=1e-06,  # epsilon for ZCA whitening\n",
        "        rotation_range=0,  # randomly rotate images in the range (degrees, 0 to 180)\n",
        "        # randomly shift images horizontally (fraction of total width)\n",
        "        width_shift_range=0.1,\n",
        "        # randomly shift images vertically (fraction of total height)\n",
        "        height_shift_range=0.1,\n",
        "        shear_range=0.,  # set range for random shear\n",
        "        zoom_range=0.,  # set range for random zoom\n",
        "        channel_shift_range=0.,  # set range for random channel shifts\n",
        "        # set mode for filling points outside the input boundaries\n",
        "        fill_mode='nearest',\n",
        "        cval=0.,  # value used for fill_mode = \"constant\"\n",
        "        horizontal_flip=True,  # randomly flip images\n",
        "        vertical_flip=False,  # randomly flip images\n",
        "        # set rescaling factor (applied before any other transformation)\n",
        "        rescale=None,\n",
        "        # set function that will be applied on each input\n",
        "        preprocessing_function=None,\n",
        "        # image data format, either \"channels_first\" or \"channels_last\"\n",
        "        data_format=None,\n",
        "        # fraction of images reserved for validation (strictly between 0 and 1)\n",
        "        validation_split=0.0)\n",
        "\n",
        "    # Compute quantities required for feature-wise normalization\n",
        "    # (std, mean, and principal components if ZCA whitening is applied).\n",
        "    datagen.fit(x_train)\n",
        "\n",
        "    # Fit the model on the batches generated by datagen.flow().\n",
        "    tic=time.time()\n",
        "    history_model_ndna=model_ndna.fit_generator(datagen.flow(x_train, y_train,\n",
        "                                     batch_size=batch_size),\n",
        "                        epochs=epochs,\n",
        "                        validation_data=(x_test, y_test),\n",
        "                        workers=4,\n",
        "                        use_multiprocessing=True)\n",
        "    toc=time.time()\n",
        "    print('\\nused time:',toc-tic,'\\n')"
      ],
      "execution_count": null,
      "outputs": []
    },
    {
      "cell_type": "code",
      "metadata": {
        "id": "U6jxyVIpFRW6"
      },
      "source": [
        "\n"
      ],
      "execution_count": null,
      "outputs": []
    },
    {
      "cell_type": "code",
      "metadata": {
        "id": "8ipAhP-vGo5E"
      },
      "source": [
        "import matplotlib.pyplot as plt\n",
        "epoch=range(1,(len(history_model.history['val_accuracy'])+1))\n",
        "plt.plot(epoch,history_model.history['val_accuracy'])\n",
        "plt.plot(epoch,history_model_ydna.history['val_accuracy'])\n",
        "plt.plot(epoch,history_model_ndya.history['val_accuracy'])\n",
        "plt.plot(epoch,history_model_ndna.history['val_accuracy'])\n",
        "plt.ylabel('accuracy')\n",
        "plt.xlabel('epoch')\n",
        "plt.legend(['yes dropout yes augmentation', 'yes dropout no augmentation','no dropout yes augmentation','no dropout no augmentation'], loc='upper left')\n",
        "plt.show()"
      ],
      "execution_count": null,
      "outputs": []
    },
    {
      "cell_type": "code",
      "metadata": {
        "id": "WnKelr6jtfFo"
      },
      "source": [
        "\n",
        "epoch=range(1,(len(history_model.history['accuracy'])+1))\n",
        "plt.plot(epoch,history_model.history['accuracy'])\n",
        "plt.plot(epoch,history_model_ydna.history['accuracy'])\n",
        "plt.plot(epoch,history_model_ndya.history['accuracy'])\n",
        "plt.plot(epoch,history_model_ndna.history['accuracy'])\n",
        "plt.ylabel('accuracy')\n",
        "plt.xlabel('epoch')\n",
        "plt.legend(['yes dropout yes augmentation', 'yes dropout no augmentation','no dropout yes augmentation','no dropout no augmentation'], loc='upper left')\n",
        "plt.show()"
      ],
      "execution_count": null,
      "outputs": []
    },
    {
      "cell_type": "markdown",
      "metadata": {
        "id": "xuXtq6H0t7JW"
      },
      "source": [
        "Explain:\n",
        "The regime without dropout and without data augmentation learns the fastest. However, it also overfits the most\n",
        "as we increase the number of iterations. Data augmentation helps tremendously to improve generalization. Dropout\n",
        "helps to improve generalization when there is no data augmentation, but it worsens the results when there is data\n",
        "augmentation."
      ]
    }
  ]
}